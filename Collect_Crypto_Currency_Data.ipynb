{
  "nbformat": 4,
  "nbformat_minor": 0,
  "metadata": {
    "colab": {
      "provenance": [],
      "toc_visible": true,
      "mount_file_id": "10KnPm7hMmUPICbC5gpWVz6420wfpdo40",
      "authorship_tag": "ABX9TyOivZoEse74QdG1ov02WZst",
      "include_colab_link": true
    },
    "kernelspec": {
      "name": "python3",
      "display_name": "Python 3"
    },
    "language_info": {
      "name": "python"
    }
  },
  "cells": [
    {
      "cell_type": "markdown",
      "metadata": {
        "id": "view-in-github",
        "colab_type": "text"
      },
      "source": [
        "<a href=\"https://colab.research.google.com/github/LorenzoKaufmann/crypto_forecast/blob/main/Collect_Crypto_Currency_Data.ipynb\" target=\"_parent\"><img src=\"https://colab.research.google.com/assets/colab-badge.svg\" alt=\"Open In Colab\"/></a>"
      ]
    },
    {
      "cell_type": "code",
      "source": [
        "!pip install python-dotenv"
      ],
      "metadata": {
        "colab": {
          "base_uri": "https://localhost:8080/"
        },
        "id": "oPj4wkLHC7V1",
        "outputId": "72ec0fbf-c30b-46da-98cd-032d48c113a3"
      },
      "execution_count": 2,
      "outputs": [
        {
          "output_type": "stream",
          "name": "stdout",
          "text": [
            "Collecting python-dotenv\n",
            "  Downloading python_dotenv-1.1.1-py3-none-any.whl.metadata (24 kB)\n",
            "Downloading python_dotenv-1.1.1-py3-none-any.whl (20 kB)\n",
            "Installing collected packages: python-dotenv\n",
            "Successfully installed python-dotenv-1.1.1\n"
          ]
        }
      ]
    },
    {
      "cell_type": "code",
      "source": [
        "!pip install cryptocompare plotly"
      ],
      "metadata": {
        "colab": {
          "base_uri": "https://localhost:8080/"
        },
        "id": "AATZ5HlbYhcQ",
        "outputId": "40d40fda-2f0d-42f7-bf45-62b6f3d3cd59"
      },
      "execution_count": 3,
      "outputs": [
        {
          "output_type": "stream",
          "name": "stdout",
          "text": [
            "Collecting cryptocompare\n",
            "  Downloading cryptocompare-0.7.6.tar.gz (6.0 kB)\n",
            "  Preparing metadata (setup.py) ... \u001b[?25l\u001b[?25hdone\n",
            "Requirement already satisfied: plotly in /usr/local/lib/python3.11/dist-packages (5.24.1)\n",
            "Requirement already satisfied: requests in /usr/local/lib/python3.11/dist-packages (from cryptocompare) (2.32.3)\n",
            "Requirement already satisfied: tenacity>=6.2.0 in /usr/local/lib/python3.11/dist-packages (from plotly) (8.5.0)\n",
            "Requirement already satisfied: packaging in /usr/local/lib/python3.11/dist-packages (from plotly) (25.0)\n",
            "Requirement already satisfied: charset-normalizer<4,>=2 in /usr/local/lib/python3.11/dist-packages (from requests->cryptocompare) (3.4.2)\n",
            "Requirement already satisfied: idna<4,>=2.5 in /usr/local/lib/python3.11/dist-packages (from requests->cryptocompare) (3.10)\n",
            "Requirement already satisfied: urllib3<3,>=1.21.1 in /usr/local/lib/python3.11/dist-packages (from requests->cryptocompare) (2.5.0)\n",
            "Requirement already satisfied: certifi>=2017.4.17 in /usr/local/lib/python3.11/dist-packages (from requests->cryptocompare) (2025.7.14)\n",
            "Building wheels for collected packages: cryptocompare\n",
            "  Building wheel for cryptocompare (setup.py) ... \u001b[?25l\u001b[?25hdone\n",
            "  Created wheel for cryptocompare: filename=cryptocompare-0.7.6-py3-none-any.whl size=6291 sha256=ef8de6de69f88c1f500b285dda705379cd9c158c4c9428e8b67afa4f34174ee9\n",
            "  Stored in directory: /root/.cache/pip/wheels/ac/d9/d3/45937831310f976e534a0a1dd2566a04e9d17ecd42a6932f31\n",
            "Successfully built cryptocompare\n",
            "Installing collected packages: cryptocompare\n",
            "Successfully installed cryptocompare-0.7.6\n"
          ]
        }
      ]
    },
    {
      "cell_type": "code",
      "source": [
        "# from pycoingecko import CoinGeckoAPI\n",
        "import cryptocompare\n",
        "import pandas as pd\n",
        "from datetime import datetime, timedelta\n",
        "from matplotlib import pyplot as plt\n",
        "from google.colab import  drive\n",
        "import os\n",
        "import numpy as np\n",
        "from itertools import islice\n",
        "import dotenv\n",
        "import matplotlib.dates as mdates\n",
        "import plotly.graph_objects as go\n",
        "from plotly.subplots import make_subplots\n",
        "\n",
        "drive.mount('/drive')\n",
        "folder_path = '/drive/My Drive/Colab Notebooks/Crypto Project/Data/cryptocompare'"
      ],
      "metadata": {
        "colab": {
          "base_uri": "https://localhost:8080/"
        },
        "id": "iF9gHp4K3M4U",
        "outputId": "f5822fb1-ad3b-418a-c513-c15375ee8037"
      },
      "execution_count": 10,
      "outputs": [
        {
          "output_type": "stream",
          "name": "stdout",
          "text": [
            "Drive already mounted at /drive; to attempt to forcibly remount, call drive.mount(\"/drive\", force_remount=True).\n"
          ]
        }
      ]
    },
    {
      "cell_type": "code",
      "source": [
        "plot_results = True"
      ],
      "metadata": {
        "id": "DPaKFsqy_nBZ"
      },
      "execution_count": 5,
      "outputs": []
    },
    {
      "cell_type": "code",
      "source": [
        "cryptocurrency_release_dates = {\n",
        "    \"Bitcoin (BTC)\": \"2012-01-01\",\n",
        "    \"Ethereum (ETH)\": \"2015-07-30\",\n",
        "    \"Tether (USDT)\": \"2014-10-06\",\n",
        "    \"Binance Coin (BNB)\": \"2017-07-25\",\n",
        "    \"USD Coin (USDC)\": \"2018-09-26\",\n",
        "    \"Ripple (XRP)\": \"2012-01-01\",\n",
        "    \"Solana (SOL)\": \"2020-03-01\",\n",
        "    \"Cardano (ADA)\": \"2017-09-29\",\n",
        "    \"Dogecoin (DOGE)\": \"2013-12-06\",\n",
        "    \"Toncoin (TON)\": \"2021-08-01\",\n",
        "    \"Polkadot (DOT)\": \"2020-05-26\",\n",
        "    \"Litecoin (LTC)\": \"2012-01-01\",\n",
        "    \"Chainlink (LINK)\": \"2017-09-19\",\n",
        "    \"Uniswap (UNI)\": \"2020-09-16\",\n",
        "    \"Bitcoin Cash (BCH)\": \"2017-08-01\",\n",
        "    \"Stellar (XLM)\": \"2014-07-31\",\n",
        "    \"VeChain (VET)\": \"2018-08-01\",\n",
        "    \"TRON (TRX)\": \"2017-09-13\",\n",
        "    \"Filecoin (FIL)\": \"2020-10-15\",\n",
        "    \"Aave (AAVE)\": \"2020-10-01\"\n",
        "}"
      ],
      "metadata": {
        "id": "HG4afmUzSeEf"
      },
      "execution_count": 6,
      "outputs": []
    },
    {
      "cell_type": "code",
      "source": [
        "for coin in cryptocurrency_release_dates.keys():\n",
        "  coin_short = coin.split('(')[1][:-1]\n",
        "  # print(f\"{coin_short.lower()}\")"
      ],
      "metadata": {
        "colab": {
          "base_uri": "https://localhost:8080/"
        },
        "id": "vD-ZtMMkHdLI",
        "outputId": "ea240032-e512-4316-9085-f15b7d05e45b"
      },
      "execution_count": 7,
      "outputs": [
        {
          "output_type": "stream",
          "name": "stdout",
          "text": [
            "btc\n",
            "eth\n",
            "usdt\n",
            "bnb\n",
            "usdc\n",
            "xrp\n",
            "sol\n",
            "ada\n",
            "doge\n",
            "ton\n",
            "dot\n",
            "ltc\n",
            "link\n",
            "uni\n",
            "bch\n",
            "xlm\n",
            "vet\n",
            "trx\n",
            "fil\n",
            "aave\n"
          ]
        }
      ]
    },
    {
      "cell_type": "markdown",
      "source": [
        "# Get historical data with CryptoCompare\n",
        "\n",
        "---\n",
        "\n"
      ],
      "metadata": {
        "id": "zTpYvjS_HI3h"
      }
    },
    {
      "cell_type": "code",
      "source": [
        "dotenv.load_dotenv('/drive/My Drive/Colab Notebooks/Crypto Project/.env')\n",
        "API_KEY = os.getenv('API_KEY_Crypto_Compare')\n",
        "\n",
        "def get_historical_data(crypto_coin, currency, start_date, end_date):\n",
        "  url = 'https://min-api.cryptocompare.com/data/v2/histoday'\n",
        "  if type(start_date) == str:\n",
        "    start_date = datetime.strptime(start_date, '%Y-%m-%d')\n",
        "    end_date = datetime.strptime(end_date, '%Y-%m-%d')\n",
        "\n",
        "  limit = end_date - start_date\n",
        "  limit = limit.days\n",
        "  if limit > 2000:\n",
        "    print('limit is too high')\n",
        "    return\n",
        "  cryptocompare.cryptocompare._set_api_key_parameter(API_KEY)\n",
        "  try:\n",
        "    cc = cryptocompare.get_historical_price_day(crypto_coin, currency,\n",
        "                                                limit=limit, exchange='CCCAGG',\n",
        "                                                toTs=end_date)\n",
        "    df_cc = pd.DataFrame(cc)\n",
        "    df_cc['time'] = pd.to_datetime(df_cc['time'], unit='s')\n",
        "  except KeyError:\n",
        "    print('ERROR')\n",
        "    return\n",
        "  return df_cc\n",
        "\n",
        "\n",
        "for coin, release_date in cryptocurrency_release_dates.items():\n",
        "  coin_name = coin.split('(')[0]\n",
        "  coin_symbol = coin.split('(')[1][:-1]\n",
        "  date_range = pd.date_range(start=release_date, end=\"2024-10-01\", freq='1YE')\n",
        "  print(f'Coin: {coin}')\n",
        "  for sd, ed in zip(date_range[:-1], date_range[1:]):\n",
        "    # print(f'Coin: {coin} \\n Start: {sd}\\n End: {ed}')\n",
        "    hist_data = get_historical_data(coin_symbol, 'USD', sd, ed)\n",
        "    if hist_data is None:\n",
        "      continue\n",
        "    hist_data = hist_data[['time', 'high', 'low', 'open', 'volumefrom', 'volumeto', 'close']].iloc[:-1]\n",
        "\n",
        "\n",
        "    if os.path.exists(folder_path):\n",
        "      if os.path.exists(f'{folder_path}/{coin_symbol}_file.csv'):\n",
        "        df_old = pd.read_csv(f'{folder_path}/{coin_symbol}_file.csv', parse_dates=['time'], index_col=0, date_format='%Y-%m-%d')\n",
        "        last_entry_date = df_old.index[-1]\n",
        "        new_entry_date = hist_data.index[0]\n",
        "        hist_data = pd.concat([df_old, hist_data], axis=0)\n",
        "        hist_data.to_csv(f'{folder_path}/{coin_symbol}_file.csv')\n",
        "      else:\n",
        "        hist_data.to_csv(f'{folder_path}/{coin_symbol}_file.csv')"
      ],
      "metadata": {
        "colab": {
          "base_uri": "https://localhost:8080/"
        },
        "id": "MOqCizXCFyxS",
        "outputId": "5bf79059-6832-4d6c-dd3f-634e1bd04c46"
      },
      "execution_count": 11,
      "outputs": [
        {
          "output_type": "stream",
          "name": "stdout",
          "text": [
            "Coin: Bitcoin (BTC)\n",
            "Coin: Ethereum (ETH)\n",
            "Coin: Tether (USDT)\n",
            "Coin: Binance Coin (BNB)\n",
            "Coin: USD Coin (USDC)\n",
            "Coin: Ripple (XRP)\n",
            "Coin: Solana (SOL)\n",
            "Coin: Cardano (ADA)\n",
            "Coin: Dogecoin (DOGE)\n",
            "Coin: Toncoin (TON)\n",
            "Coin: Polkadot (DOT)\n",
            "Coin: Litecoin (LTC)\n",
            "Coin: Chainlink (LINK)\n",
            "Coin: Uniswap (UNI)\n",
            "Coin: Bitcoin Cash (BCH)\n",
            "Coin: Stellar (XLM)\n",
            "Coin: VeChain (VET)\n",
            "Coin: TRON (TRX)\n",
            "Coin: Filecoin (FIL)\n",
            "Coin: Aave (AAVE)\n"
          ]
        }
      ]
    },
    {
      "cell_type": "markdown",
      "source": [
        "## Get latest Updates in Crypto Currencies"
      ],
      "metadata": {
        "id": "nFFQhZjaKvvq"
      }
    },
    {
      "cell_type": "code",
      "source": [
        "for coin, release_date in cryptocurrency_release_dates.items():\n",
        "  coin_name = coin.split('(')[0]\n",
        "  coin_symbol = coin.split('(')[1][:-1]\n",
        "  release_date = pd.to_datetime(release_date)\n",
        "  try:\n",
        "    df_old = pd.read_csv(f'{folder_path}/{coin_symbol}_file.csv', parse_dates=['time'], index_col=0, date_format='%Y-%m-%d')\n",
        "    df_old = df_old[['time', 'high', 'low', 'open', 'volumefrom', 'volumeto', 'close']]\n",
        "\n",
        "  except FileNotFoundError:\n",
        "    print(f\"No file found for {coin_symbol}\")\n",
        "    continue\n",
        "\n",
        "  if not df_old.empty:\n",
        "      last_date = df_old['time'].max()\n",
        "  else:\n",
        "      last_date = release_date\n",
        "\n",
        "  # Ensure last_date is at least one day before today\n",
        "  today = pd.Timestamp.today().normalize()\n",
        "  last_date = pd.to_datetime(last_date)\n",
        "  if last_date >= today:\n",
        "      print(f\"No update needed for {coin_symbol}\")\n",
        "  else:\n",
        "      # Set the end_date for fetching new data (one day before today)\n",
        "      days_to_fetch = (today - last_date).days + 2 # just to be save\n",
        "      end_date = datetime.now() - timedelta(days=1)\n",
        "      last_timestamp = int(last_date.timestamp())\n",
        "\n",
        "      new_data = cryptocompare.get_historical_price_day(coin_symbol, 'USD',\n",
        "                                                        limit=days_to_fetch, exchange='CCCAGG',\n",
        "                                                        toTs=int(end_date.timestamp()))\n",
        "      df_new = pd.DataFrame(new_data)\n",
        "      df_new['time'] = pd.to_datetime(df_new['time'], unit='s')\n",
        "      df_new = df_new[['time', 'high', 'low', 'open', 'volumefrom', 'volumeto', 'close']]\n",
        "\n",
        "      # Filter new data to ensure it's only after the last date in df_old\n",
        "      df_new = df_new[df_new['time'] > last_date]\n",
        "\n",
        "      # Append new data to old data\n",
        "      df_updated = pd.concat([df_old, df_new], axis=0)\n",
        "\n",
        "      df_updated.to_csv(f'{folder_path}/{coin_symbol}_file.csv')\n",
        "\n",
        "      print(f\"Data updated for {coin_symbol}\")\n"
      ],
      "metadata": {
        "colab": {
          "base_uri": "https://localhost:8080/"
        },
        "id": "47vhQvjmKvaj",
        "outputId": "2dc366d0-1e5c-402b-e1e4-bb0dbf113605"
      },
      "execution_count": 12,
      "outputs": [
        {
          "output_type": "stream",
          "name": "stdout",
          "text": [
            "Data updated for BTC\n",
            "Data updated for ETH\n",
            "Data updated for USDT\n",
            "Data updated for BNB\n",
            "Data updated for USDC\n",
            "Data updated for XRP\n",
            "Data updated for SOL\n",
            "Data updated for ADA\n",
            "Data updated for DOGE\n",
            "Data updated for TON\n",
            "Data updated for DOT\n",
            "Data updated for LTC\n",
            "Data updated for LINK\n",
            "Data updated for UNI\n",
            "Data updated for BCH\n",
            "Data updated for XLM\n",
            "Data updated for VET\n",
            "Data updated for TRX\n",
            "Data updated for FIL\n",
            "Data updated for AAVE\n"
          ]
        }
      ]
    },
    {
      "cell_type": "markdown",
      "source": [
        "## Load Data"
      ],
      "metadata": {
        "id": "atOcMgM7ZqKV"
      }
    },
    {
      "cell_type": "code",
      "source": [
        "coin_dict = {}\n",
        "for coin, release_date in cryptocurrency_release_dates.items():\n",
        "  coin_name = coin.split('(')[0]\n",
        "  coin_symbol = coin.split('(')[1][:-1]\n",
        "  release_date = pd.to_datetime(release_date)\n",
        "  try:\n",
        "    currency_df = pd.read_csv(f'{folder_path}/{coin_symbol}_file.csv', parse_dates=['time'], index_col=0, date_format='%Y-%m-%d')\n",
        "    currency_df = currency_df[['time', 'high', 'low', 'open', 'volumefrom', 'volumeto', 'close']]\n",
        "  except FileNotFoundError:\n",
        "    print(f\"No file found for {coin_symbol}\")\n",
        "    continue\n",
        "\n",
        "  coin_dict[coin_name] = currency_df"
      ],
      "metadata": {
        "id": "TFv4gQyhYqua"
      },
      "execution_count": 13,
      "outputs": []
    }
  ]
}