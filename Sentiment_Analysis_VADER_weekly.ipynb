{
  "nbformat": 4,
  "nbformat_minor": 0,
  "metadata": {
    "colab": {
      "provenance": [],
      "toc_visible": true,
      "mount_file_id": "1NBkp3oRsjT1HInAUhsua5Vtso8qGExff",
      "authorship_tag": "ABX9TyOQ8pp8u7WfRhEt47097OzN",
      "include_colab_link": true
    },
    "kernelspec": {
      "name": "python3",
      "display_name": "Python 3"
    },
    "language_info": {
      "name": "python"
    }
  },
  "cells": [
    {
      "cell_type": "markdown",
      "metadata": {
        "id": "view-in-github",
        "colab_type": "text"
      },
      "source": [
        "<a href=\"https://colab.research.google.com/github/LorenzoKaufmann/crypto_forecast/blob/main/Sentiment_Analysis_VADER_weekly.ipynb\" target=\"_parent\"><img src=\"https://colab.research.google.com/assets/colab-badge.svg\" alt=\"Open In Colab\"/></a>"
      ]
    },
    {
      "cell_type": "markdown",
      "source": [
        "##Import"
      ],
      "metadata": {
        "id": "A8Ov3kuizaiV"
      }
    },
    {
      "cell_type": "code",
      "source": [
        "!pip install dash"
      ],
      "metadata": {
        "colab": {
          "base_uri": "https://localhost:8080/"
        },
        "id": "_MP48hviL4Jz",
        "outputId": "4d793ec6-c5c0-40f3-eb90-320eaf08c294"
      },
      "execution_count": 12,
      "outputs": [
        {
          "output_type": "stream",
          "name": "stdout",
          "text": [
            "Collecting dash\n",
            "  Downloading dash-3.2.0-py3-none-any.whl.metadata (10 kB)\n",
            "Requirement already satisfied: Flask<3.2,>=1.0.4 in /usr/local/lib/python3.11/dist-packages (from dash) (3.1.1)\n",
            "Requirement already satisfied: Werkzeug<3.2 in /usr/local/lib/python3.11/dist-packages (from dash) (3.1.3)\n",
            "Requirement already satisfied: plotly>=5.0.0 in /usr/local/lib/python3.11/dist-packages (from dash) (5.24.1)\n",
            "Requirement already satisfied: importlib-metadata in /usr/local/lib/python3.11/dist-packages (from dash) (8.7.0)\n",
            "Requirement already satisfied: typing-extensions>=4.1.1 in /usr/local/lib/python3.11/dist-packages (from dash) (4.14.1)\n",
            "Requirement already satisfied: requests in /usr/local/lib/python3.11/dist-packages (from dash) (2.32.3)\n",
            "Collecting retrying (from dash)\n",
            "  Downloading retrying-1.4.2-py3-none-any.whl.metadata (5.5 kB)\n",
            "Requirement already satisfied: nest-asyncio in /usr/local/lib/python3.11/dist-packages (from dash) (1.6.0)\n",
            "Requirement already satisfied: setuptools in /usr/local/lib/python3.11/dist-packages (from dash) (75.2.0)\n",
            "Requirement already satisfied: blinker>=1.9.0 in /usr/local/lib/python3.11/dist-packages (from Flask<3.2,>=1.0.4->dash) (1.9.0)\n",
            "Requirement already satisfied: click>=8.1.3 in /usr/local/lib/python3.11/dist-packages (from Flask<3.2,>=1.0.4->dash) (8.2.1)\n",
            "Requirement already satisfied: itsdangerous>=2.2.0 in /usr/local/lib/python3.11/dist-packages (from Flask<3.2,>=1.0.4->dash) (2.2.0)\n",
            "Requirement already satisfied: jinja2>=3.1.2 in /usr/local/lib/python3.11/dist-packages (from Flask<3.2,>=1.0.4->dash) (3.1.6)\n",
            "Requirement already satisfied: markupsafe>=2.1.1 in /usr/local/lib/python3.11/dist-packages (from Flask<3.2,>=1.0.4->dash) (3.0.2)\n",
            "Requirement already satisfied: tenacity>=6.2.0 in /usr/local/lib/python3.11/dist-packages (from plotly>=5.0.0->dash) (9.1.2)\n",
            "Requirement already satisfied: packaging in /usr/local/lib/python3.11/dist-packages (from plotly>=5.0.0->dash) (25.0)\n",
            "Requirement already satisfied: zipp>=3.20 in /usr/local/lib/python3.11/dist-packages (from importlib-metadata->dash) (3.23.0)\n",
            "Requirement already satisfied: charset-normalizer<4,>=2 in /usr/local/lib/python3.11/dist-packages (from requests->dash) (3.4.3)\n",
            "Requirement already satisfied: idna<4,>=2.5 in /usr/local/lib/python3.11/dist-packages (from requests->dash) (3.10)\n",
            "Requirement already satisfied: urllib3<3,>=1.21.1 in /usr/local/lib/python3.11/dist-packages (from requests->dash) (2.5.0)\n",
            "Requirement already satisfied: certifi>=2017.4.17 in /usr/local/lib/python3.11/dist-packages (from requests->dash) (2025.8.3)\n",
            "Downloading dash-3.2.0-py3-none-any.whl (7.9 MB)\n",
            "\u001b[2K   \u001b[90m━━━━━━━━━━━━━━━━━━━━━━━━━━━━━━━━━━━━━━━━\u001b[0m \u001b[32m7.9/7.9 MB\u001b[0m \u001b[31m59.0 MB/s\u001b[0m eta \u001b[36m0:00:00\u001b[0m\n",
            "\u001b[?25hDownloading retrying-1.4.2-py3-none-any.whl (10 kB)\n",
            "Installing collected packages: retrying, dash\n",
            "Successfully installed dash-3.2.0 retrying-1.4.2\n"
          ]
        }
      ]
    },
    {
      "cell_type": "code",
      "source": [
        "from datetime import datetime, timedelta\n",
        "from textblob import TextBlob\n",
        "import pandas as pd\n",
        "import spacy\n",
        "from collections import Counter\n",
        "import seaborn as sns\n",
        "import matplotlib.pyplot as plt\n",
        "import numpy as np\n",
        "import scipy.stats as stats\n",
        "import os\n",
        "import matplotlib.ticker as mticker\n",
        "import matplotlib.dates as mdates"
      ],
      "metadata": {
        "id": "ouVeWe5L6uxB"
      },
      "execution_count": 1,
      "outputs": []
    },
    {
      "cell_type": "code",
      "source": [
        "from nltk.corpus import stopwords\n",
        "from nltk.tokenize import word_tokenize\n",
        "from nltk.sentiment import SentimentIntensityAnalyzer\n",
        "import nltk\n",
        "\n",
        "# Download NLTK resources\n",
        "nltk.download(\"punkt\")\n",
        "nltk.download(\"stopwords\")\n",
        "nltk.download(\"vader_lexicon\")\n",
        "nltk.download('punkt_tab')\n"
      ],
      "metadata": {
        "colab": {
          "base_uri": "https://localhost:8080/"
        },
        "id": "Vd_g-oNBsJpf",
        "outputId": "bb234d50-87cd-4497-a991-ace4cad7635e"
      },
      "execution_count": 2,
      "outputs": [
        {
          "output_type": "stream",
          "name": "stderr",
          "text": [
            "[nltk_data] Downloading package punkt to /root/nltk_data...\n",
            "[nltk_data]   Unzipping tokenizers/punkt.zip.\n",
            "[nltk_data] Downloading package stopwords to /root/nltk_data...\n",
            "[nltk_data]   Unzipping corpora/stopwords.zip.\n",
            "[nltk_data] Downloading package vader_lexicon to /root/nltk_data...\n",
            "[nltk_data] Downloading package punkt_tab to /root/nltk_data...\n",
            "[nltk_data]   Unzipping tokenizers/punkt_tab.zip.\n"
          ]
        },
        {
          "output_type": "execute_result",
          "data": {
            "text/plain": [
              "True"
            ]
          },
          "metadata": {},
          "execution_count": 2
        }
      ]
    },
    {
      "cell_type": "code",
      "source": [
        "from google.colab import drive\n",
        "drive.mount('/drive')\n",
        "folder_path = '/drive/My Drive/Colab Notebooks/Crypto Project/Data/reddit_posts'\n",
        "folder_path_daily_update = '/drive/My Drive/Colab Notebooks/Crypto Project/Data/reddit_posts/Daily_Update'\n",
        "test_case = False"
      ],
      "metadata": {
        "colab": {
          "base_uri": "https://localhost:8080/"
        },
        "id": "d3ZtBPKQ69OU",
        "outputId": "27c29247-7a58-4b8b-d200-a88bb83a8127"
      },
      "execution_count": 21,
      "outputs": [
        {
          "output_type": "stream",
          "name": "stdout",
          "text": [
            "Drive already mounted at /drive; to attempt to forcibly remount, call drive.mount(\"/drive\", force_remount=True).\n"
          ]
        }
      ]
    },
    {
      "cell_type": "markdown",
      "source": [
        "###read JSON File"
      ],
      "metadata": {
        "id": "hNuqaN8oBsc7"
      }
    },
    {
      "cell_type": "code",
      "source": [
        "def read_json_data(folder_path, get_function='all'):\n",
        "  days_list = [f[17:-5] for f in os.listdir(folder_path)\n",
        "    if os.path.isfile(os.path.join(folder_path, f))]\n",
        "  print(f'List of Days: {days_list}')\n",
        "  all_posts = pd.DataFrame(columns=['index', 'title', 'score', 'text', 'author', 'url',\n",
        "                                    'num_comments', 'subreddit', 'fetch_method'])\n",
        "  for day in days_list:\n",
        "    filename = f'reddit_posts_{get_function}_{day}.json'\n",
        "    posts_df = pd.read_json(os.path.join(folder_path, filename),  orient='index')\n",
        "    posts_df['created_utc'] = pd.to_datetime(posts_df['created_utc'], unit='s')\n",
        "    posts_df = posts_df.reset_index().set_index('created_utc')\n",
        "    if all_posts.empty:\n",
        "      all_posts = posts_df\n",
        "    else:\n",
        "      all_posts = pd.concat([all_posts, posts_df])\n",
        "  all_posts = all_posts.drop_duplicates(subset='index', keep='first')\n",
        "  return all_posts\n",
        "\n",
        "\n",
        "def text_analysis_VADER(row, colname, sia):\n",
        "    # print(text)\n",
        "    text = row[colname]\n",
        "    sentiment = sia.polarity_scores(text)[\"compound\"]  # Analyze sentiment\n",
        "    return sentiment\n",
        "\n"
      ],
      "metadata": {
        "id": "AOdZH76SBrkc"
      },
      "execution_count": 22,
      "outputs": []
    },
    {
      "cell_type": "code",
      "source": [
        "all_reddit_posts = read_json_data(folder_path_daily_update, get_function='all')\n",
        "\n",
        "sia = SentimentIntensityAnalyzer()\n",
        "\n",
        "all_reddit_posts['sent_analysis_text_VADER'] = all_reddit_posts.apply(text_analysis_VADER, args=('text', sia), axis=1)\n",
        "all_reddit_posts['week_year'] = all_reddit_posts.index.strftime('%Y-%W')\n",
        "\n",
        "weekly_df = (\n",
        "    all_reddit_posts\n",
        "    .groupby('week_year', as_index=False)\n",
        "    .agg(vader_mean=('sent_analysis_text_VADER', 'mean'))\n",
        ")\n",
        "print(weekly_df.head())"
      ],
      "metadata": {
        "id": "7ZCVpAnODvKa",
        "colab": {
          "base_uri": "https://localhost:8080/"
        },
        "outputId": "9306b5cc-d065-4d3b-881d-7393e84542c4"
      },
      "execution_count": 23,
      "outputs": [
        {
          "output_type": "stream",
          "name": "stdout",
          "text": [
            "List of Days: ['2024_11_22', '2024_11_23', '2024_11_25', '2024_11_26', '2024_11_27', '2024_11_29', '2024_12_03', '2024_12_04', '2024_12_11', '2024_12_16', '2025_07_20', '2025_08_07', '2025_08_16']\n",
            "  week_year  vader_mean\n",
            "0   2014-00    0.000000\n",
            "1   2017-36    0.991500\n",
            "2   2017-38   -0.976600\n",
            "3   2017-40    0.977400\n",
            "4   2017-43   -0.217525\n"
          ]
        }
      ]
    },
    {
      "cell_type": "markdown",
      "source": [
        "####load crypto data"
      ],
      "metadata": {
        "id": "aCXhIHN27Lk6"
      }
    },
    {
      "cell_type": "code",
      "source": [
        "cryptocurrency_release_dates = {\n",
        "    \"Bitcoin (BTC)\": \"2012-01-01\",\n",
        "    \"Ethereum (ETH)\": \"2015-07-30\",\n",
        "    \"Tether (USDT)\": \"2014-10-06\",\n",
        "    \"Binance Coin (BNB)\": \"2017-07-25\",\n",
        "    \"USD Coin (USDC)\": \"2018-09-26\",\n",
        "    \"XRP (Ripple)\": \"2012-01-01\",\n",
        "    \"Solana (SOL)\": \"2020-03-01\",\n",
        "    \"Cardano (ADA)\": \"2017-09-29\",\n",
        "    \"Dogecoin (DOGE)\": \"2013-12-06\",\n",
        "    \"Toncoin (TON)\": \"2021-08-01\",\n",
        "    \"Polkadot (DOT)\": \"2020-05-26\",\n",
        "    \"Litecoin (LTC)\": \"2012-01-01\",\n",
        "    \"Chainlink (LINK)\": \"2017-09-19\",\n",
        "    \"Uniswap (UNI)\": \"2020-09-16\",\n",
        "    \"Bitcoin Cash (BCH)\": \"2017-08-01\",\n",
        "    \"Stellar (XLM)\": \"2014-07-31\",\n",
        "    \"VeChain (VET)\": \"2018-08-01\",\n",
        "    \"TRON (TRX)\": \"2017-09-13\",\n",
        "    \"Filecoin (FIL)\": \"2020-10-15\",\n",
        "    \"Aave (AAVE)\": \"2020-10-01\"\n",
        "}"
      ],
      "metadata": {
        "id": "5N1nB_wM7VW3"
      },
      "execution_count": 24,
      "outputs": []
    },
    {
      "cell_type": "code",
      "source": [
        "folder_path_crypto = '/drive/My Drive/Colab Notebooks/Crypto Project/Data/cryptocompare'\n",
        "\n",
        "coin_dict = {}\n",
        "for coin, release_date in cryptocurrency_release_dates.items():\n",
        "  coin_name = coin.split(' (')[0]\n",
        "  coin_symbol = coin.split(' (')[1][:-1]\n",
        "  release_date = pd.to_datetime(release_date)\n",
        "  try:\n",
        "    currency_df = pd.read_csv(f'{folder_path_crypto}/{coin_symbol}_file.csv', parse_dates=['time'], index_col=0, date_format='%Y-%m-%d')\n",
        "    currency_df = currency_df[['time', 'high', 'low', 'open', 'volumefrom', 'volumeto', 'close']]\n",
        "\n",
        "  except FileNotFoundError:\n",
        "    print(f\"No file found for {coin_symbol}\")\n",
        "    continue\n",
        "\n",
        "  coin_dict[coin_name] = currency_df"
      ],
      "metadata": {
        "colab": {
          "base_uri": "https://localhost:8080/"
        },
        "id": "KetwO47j6jwq",
        "outputId": "2d74d569-e933-4002-f38b-436b45255f5e"
      },
      "execution_count": 25,
      "outputs": [
        {
          "output_type": "stream",
          "name": "stdout",
          "text": [
            "No file found for Ripple\n"
          ]
        }
      ]
    },
    {
      "cell_type": "code",
      "source": [
        "def plot_crypto_sentiment(df, crypto_currency):\n",
        "    \"\"\"\n",
        "    Plot crypto close price vs. sentiment analysis over time.\n",
        "\n",
        "    Parameters:\n",
        "    -----------\n",
        "    df : pandas.DataFrame\n",
        "        Must contain:\n",
        "        - 'time' (datetime)\n",
        "        - 'close' (numeric)\n",
        "        - 'moving_avg_vader_mean' (numeric, 0–1 scale)\n",
        "    crypto_currency : str\n",
        "        Name of the cryptocurrency for title labeling.\n",
        "    \"\"\"\n",
        "\n",
        "    plt.style.use(\"seaborn-v0_8-darkgrid\")\n",
        "\n",
        "    fig, ax1 = plt.subplots(figsize=(15, 7))\n",
        "\n",
        "    price_color = \"#008080\"   # deep teal\n",
        "    sent_color  = \"#FF7F0E\"   # vivid orange\n",
        "\n",
        "    # Left axis — Close Price\n",
        "    line1, = ax1.plot(\n",
        "        df['time'],\n",
        "        df['close'],\n",
        "        label='Close Price',\n",
        "        color=price_color,\n",
        "        linewidth=2.5,\n",
        "        alpha=0.9\n",
        "    )\n",
        "    ax1.fill_between(\n",
        "        df['time'],\n",
        "        df['close'],\n",
        "        alpha=0.1,\n",
        "        color=price_color\n",
        "    )\n",
        "    ax1.set_ylabel('Close Price (USD)', color=price_color, fontsize=13)\n",
        "    ax1.tick_params(axis='y', labelcolor=price_color)\n",
        "    ax1.yaxis.set_major_formatter(mticker.StrMethodFormatter('$ {x:,.0f}'))\n",
        "\n",
        "    # Right axis — VADER Sentiment\n",
        "    ax2 = ax1.twinx()\n",
        "    line2, = ax2.plot(\n",
        "        df['time'],\n",
        "        df['moving_avg_vader_mean'],\n",
        "        label='Sentiment Analysis',\n",
        "        color=sent_color,\n",
        "        linewidth=2.5,\n",
        "        linestyle='--',\n",
        "        alpha=0.9,\n",
        "        zorder=5\n",
        "    )\n",
        "    ax2.set_ylabel('Sentiment Analysis', color=sent_color, fontsize=13)\n",
        "    ax2.tick_params(axis='y', labelcolor=sent_color)\n",
        "    ax2.yaxis.set_major_formatter(mticker.PercentFormatter(1.0))\n",
        "\n",
        "    # Ensure sentiment is visible\n",
        "    ax2.set_ylim(\n",
        "        df['moving_avg_vader_mean'].min() - 0.05,\n",
        "        df['moving_avg_vader_mean'].max() + 0.05\n",
        "    )\n",
        "\n",
        "    ax1.xaxis.set_major_locator(mdates.YearLocator())\n",
        "    ax1.xaxis.set_major_formatter(mdates.DateFormatter('%Y'))\n",
        "    ax1.xaxis.set_minor_locator(mdates.MonthLocator())\n",
        "    ax1.xaxis.set_minor_formatter(mdates.DateFormatter('%b'))\n",
        "\n",
        "    # Tick styles\n",
        "    ax1.tick_params(axis='x', which='major', length=10, width=1.2, pad=20)  # move years lower\n",
        "    ax1.tick_params(axis='x', which='minor', length=5, width=0.8, labelsize=8, pad=2)\n",
        "\n",
        "    # Styling labels\n",
        "    plt.setp(ax1.xaxis.get_majorticklabels(), rotation=0, ha='center', fontsize=11, color='black')\n",
        "    plt.setp(ax1.xaxis.get_minorticklabels(), rotation=90, ha='center', fontsize=8, color='gray')\n",
        "\n",
        "    # X-axis limits\n",
        "    ax1.set_xlim(df['time'].min(), df['time'].max())\n",
        "\n",
        "    # Title\n",
        "    plt.title(\n",
        "        f\"{crypto_currency} Close Price & Sentiment Analysis\",\n",
        "        fontsize=16,\n",
        "        fontweight='bold',\n",
        "        pad=15\n",
        "    )\n",
        "\n",
        "    plt.tight_layout()\n",
        "    plt.show()\n"
      ],
      "metadata": {
        "id": "nW__nqWDZ0Zm"
      },
      "execution_count": 26,
      "outputs": []
    },
    {
      "cell_type": "code",
      "source": [
        "coin_dict.keys()"
      ],
      "metadata": {
        "colab": {
          "base_uri": "https://localhost:8080/"
        },
        "id": "CW2nQiR4O4TB",
        "outputId": "956b5818-5508-4114-ef28-9ecf5518c5fa"
      },
      "execution_count": 42,
      "outputs": [
        {
          "output_type": "execute_result",
          "data": {
            "text/plain": [
              "dict_keys(['Bitcoin', 'Ethereum', 'Tether', 'Binance Coin', 'USD Coin', 'Solana', 'Cardano', 'Dogecoin', 'Toncoin', 'Polkadot', 'Litecoin', 'Chainlink', 'Uniswap', 'Bitcoin Cash', 'Stellar', 'VeChain', 'TRON', 'Filecoin', 'Aave'])"
            ]
          },
          "metadata": {},
          "execution_count": 42
        }
      ]
    },
    {
      "cell_type": "code",
      "source": [
        "# for crypto_currency in coin_dict.keys():\n",
        "master_merge_df = pd.DataFrame(columns=['week_year', 'close', 'time',\n",
        "                                        'moving_avg_vader_mean', 'crypto_coin'])\n",
        "for crypto_currency in [\"Bitcoin\", \"Ethereum\", \"Solana\", \"Cardano\"]:\n",
        "  print(crypto_currency)\n",
        "  coin_df = coin_dict[crypto_currency]\n",
        "  coin_df['week_year'] = coin_df[\"time\"].dt.strftime('%Y-%W')\n",
        "\n",
        "  weekly_bitcin_df = (\n",
        "      coin_df\n",
        "      .groupby('week_year', as_index=False)\n",
        "      .agg(close=('close', 'last'), time=('time', 'first'))\n",
        "  )\n",
        "\n",
        "  merged_df = weekly_bitcin_df.merge(weekly_df, on='week_year')\n",
        "  merged_df['moving_avg_vader_mean'] = merged_df['vader_mean'].rolling(window=4).mean()\n",
        "  merged_df = merged_df.loc[(merged_df['time'] >= datetime(2018, 11, 1)) &\n",
        "                            (merged_df['time'] <= datetime(2025, 6, 1))]\n",
        "  # Calculate the Pearson correlation coefficient\n",
        "  correlation, p_value = stats.pearsonr(merged_df['close'], merged_df['vader_mean'])\n",
        "  merged_df['crypto_coin'] = crypto_currency\n",
        "  print(f\"The Pearson correlation coefficient between close price \\\n",
        "  and vader_mean is: {correlation}\\nP-Value: {p_value}\")\n",
        "  master_merge_df = pd.concat([master_merge_df, merged_df])\n",
        "  # plot_crypto_sentiment(merged_df, crypto_currency)\n"
      ],
      "metadata": {
        "colab": {
          "base_uri": "https://localhost:8080/"
        },
        "id": "c8sV1iQ3UEfz",
        "outputId": "4647c015-b83c-4f90-e2e6-47d38c12cad5"
      },
      "execution_count": 16,
      "outputs": [
        {
          "output_type": "stream",
          "name": "stdout",
          "text": [
            "Bitcoin\n",
            "The Pearson correlation coefficient between close price   and vader_mean is: 0.23458287115002172\n",
            "P-Value: 9.682773060493338e-05\n",
            "Ethereum\n"
          ]
        },
        {
          "output_type": "stream",
          "name": "stderr",
          "text": [
            "/tmp/ipython-input-1905913404.py:24: FutureWarning:\n",
            "\n",
            "The behavior of DataFrame concatenation with empty or all-NA entries is deprecated. In a future version, this will no longer exclude empty or all-NA columns when determining the result dtypes. To retain the old behavior, exclude the relevant entries before the concat operation.\n",
            "\n"
          ]
        },
        {
          "output_type": "stream",
          "name": "stdout",
          "text": [
            "The Pearson correlation coefficient between close price   and vader_mean is: 0.25344476134634336\n",
            "P-Value: 2.420586339691795e-05\n",
            "Solana\n",
            "The Pearson correlation coefficient between close price   and vader_mean is: 0.08783021840409583\n",
            "P-Value: 0.19745394496451893\n",
            "Cardano\n",
            "The Pearson correlation coefficient between close price   and vader_mean is: 0.15607917581814723\n",
            "P-Value: 0.010073372446385991\n"
          ]
        }
      ]
    },
    {
      "cell_type": "markdown",
      "source": [
        "##Buid Dashboard"
      ],
      "metadata": {
        "id": "ZQHUTOMeMCp6"
      }
    },
    {
      "cell_type": "code",
      "source": [
        "last_date = master_merge_df['time'].max()\n",
        "print(last_date)"
      ],
      "metadata": {
        "colab": {
          "base_uri": "https://localhost:8080/"
        },
        "id": "A3PAho2nP6pn",
        "outputId": "a0d4333c-7caf-4dab-d6cc-4e8f1b38b9ab"
      },
      "execution_count": 27,
      "outputs": [
        {
          "output_type": "stream",
          "name": "stdout",
          "text": [
            "2025-05-26 00:00:00\n"
          ]
        }
      ]
    },
    {
      "cell_type": "code",
      "source": [
        "import dash\n",
        "from dash import dcc, html\n",
        "import plotly.graph_objs as go\n",
        "\n",
        "# -----------------------------\n",
        "# Dashboard App\n",
        "# -----------------------------\n",
        "app = dash.Dash(__name__)\n",
        "\n",
        "app.layout = html.Div([\n",
        "    html.H1(\"Crypto Price & Sentiment Dashboard\", style={'textAlign': 'center'}),\n",
        "\n",
        "    # Dropdown for selecting crypto\n",
        "    html.Label(\"Select Cryptocurrency:\"),\n",
        "    dcc.Dropdown(\n",
        "        id='crypto-dropdown',\n",
        "        options=[\n",
        "            {'label': 'Bitcoin', 'value': 'Bitcoin'},\n",
        "            {'label': 'Ethereum', 'value': 'Ethereum'},\n",
        "            {'label': 'Solana', 'value': 'Solana'},\n",
        "            {'label': 'Cardano', 'value': 'Cardano'},\n",
        "        ],\n",
        "        value='Bitcoin',\n",
        "        clearable=False,\n",
        "        style={'width': '40%'}\n",
        "    ),\n",
        "\n",
        "    # Graphs\n",
        "    dcc.Graph(id='crypto-sentiment-graph'),\n",
        "    dcc.Graph(id='crypto-barplot')\n",
        "])\n",
        "\n",
        "# -----------------------------\n",
        "# Callback for line + sentiment chart\n",
        "# -----------------------------\n",
        "@app.callback(\n",
        "    dash.Output('crypto-sentiment-graph', 'figure'),\n",
        "    [dash.Input('crypto-dropdown', 'value')]\n",
        ")\n",
        "def update_graph(crypto_currency):\n",
        "    df = master_merge_df.loc[master_merge_df['crypto_coin'] == crypto_currency]\n",
        "\n",
        "    fig = go.Figure()\n",
        "\n",
        "    # Close Price\n",
        "    fig.add_trace(go.Scatter(\n",
        "        x=df['time'], y=df['close'],\n",
        "        name=\"Close Price\",\n",
        "        line=dict(color=\"#008080\", width=2.5),\n",
        "        fill='tozeroy',\n",
        "        yaxis=\"y1\"\n",
        "    ))\n",
        "\n",
        "    # Sentiment\n",
        "    fig.add_trace(go.Scatter(\n",
        "        x=df['time'], y=df['moving_avg_vader_mean'],\n",
        "        name=\"Sentiment (MA)\",\n",
        "        line=dict(color=\"#FF7F0E\", width=2.5, dash=\"dash\"),\n",
        "        yaxis=\"y2\"\n",
        "    ))\n",
        "\n",
        "    # Layout with two y-axes\n",
        "    fig.update_layout(\n",
        "        title=f\"{crypto_currency} Close Price & Sentiment Over Time\",\n",
        "        xaxis=dict(\n",
        "            title=\"Date\",\n",
        "            showgrid=True,\n",
        "            dtick=\"M1\",\n",
        "            tickformat=\"%b\\n%Y\"\n",
        "        ),\n",
        "        yaxis=dict(\n",
        "            title=\"Close Price (USD)\",\n",
        "            titlefont=dict(color=\"#008080\"),\n",
        "            tickfont=dict(color=\"#008080\"),\n",
        "            side=\"left\"\n",
        "        ),\n",
        "        yaxis2=dict(\n",
        "            title=\"Sentiment\",\n",
        "            titlefont=dict(color=\"#FF7F0E\"),\n",
        "            tickfont=dict(color=\"#FF7F0E\"),\n",
        "            overlaying=\"y\",\n",
        "            side=\"right\",\n",
        "            tickformat=\".0%\"\n",
        "        ),\n",
        "        legend=dict(x=0.01, y=0.99, bgcolor=\"rgba(255,255,255,0.7)\"),\n",
        "        template=\"plotly_white\",\n",
        "        height=600\n",
        "    )\n",
        "\n",
        "    return fig\n",
        "\n",
        "# -----------------------------\n",
        "# Callback for bar plot\n",
        "# -----------------------------\n",
        "@app.callback(\n",
        "    dash.Output('crypto-barplot', 'figure'),\n",
        "    [dash.Input('crypto-dropdown', 'value')]\n",
        ")\n",
        "def update_barplot(selected_crypto):\n",
        "    # Get the last available date\n",
        "    last_date = master_merge_df['time'].max()\n",
        "    one_month_ago = last_date - pd.DateOffset(months=1)\n",
        "\n",
        "    # Filter last month\n",
        "    last_month_df = master_merge_df[master_merge_df['time'] >= one_month_ago]\n",
        "\n",
        "    # Compute stats\n",
        "    stats_df = last_month_df.groupby('crypto_coin').agg(\n",
        "        latest_close=('close', 'last'),\n",
        "        std_close=('close', 'std')\n",
        "    ).reset_index()\n",
        "\n",
        "    # Bar plot\n",
        "    fig = go.Figure(data=[\n",
        "        go.Bar(\n",
        "            x=stats_df['crypto_coin'],\n",
        "            y=stats_df['latest_close'],\n",
        "            name=\"Latest Close Price\",\n",
        "            marker_color=\"#008080\",\n",
        "            yaxis=\"y1\"\n",
        "        ),\n",
        "        go.Bar(\n",
        "            x=stats_df['crypto_coin'],\n",
        "            y=stats_df['std_close'],\n",
        "            name=\"Std Dev (Last Month)\",\n",
        "            marker_color=\"#FF7F0E\",\n",
        "            yaxis=\"y2\"\n",
        "        )\n",
        "    ])\n",
        "\n",
        "    # Dual y-axes: one for price, one for std dev\n",
        "    fig.update_layout(\n",
        "        title=\"Latest Close Prices & Volatility (Std Dev Last Month)\",\n",
        "        xaxis=dict(title=\"Cryptocurrency\"),\n",
        "        yaxis=dict(\n",
        "            title=\"Latest Close Price (USD)\",\n",
        "            titlefont=dict(color=\"#008080\"),\n",
        "            tickfont=dict(color=\"#008080\"),\n",
        "        ),\n",
        "        yaxis2=dict(\n",
        "            title=\"Standard Deviation\",\n",
        "            titlefont=dict(color=\"#FF7F0E\"),\n",
        "            tickfont=dict(color=\"#FF7F0E\"),\n",
        "            overlaying=\"y\",\n",
        "            side=\"right\"\n",
        "        ),\n",
        "        barmode=\"group\",\n",
        "        template=\"plotly_white\",\n",
        "        height=500,\n",
        "        legend=dict(x=0.01, y=0.99, bgcolor=\"rgba(255,255,255,0.7)\")\n",
        "    )\n",
        "\n",
        "    return fig\n",
        "\n",
        "\n",
        "# -----------------------------\n",
        "# Run app\n",
        "# -----------------------------\n",
        "if __name__ == '__main__':\n",
        "    app.run(debug=True)\n"
      ],
      "metadata": {
        "colab": {
          "base_uri": "https://localhost:8080/",
          "height": 671
        },
        "id": "FvZpLlnzLXvH",
        "outputId": "86156754-1009-4846-9faf-a8a17fd4cf4b"
      },
      "execution_count": 18,
      "outputs": [
        {
          "output_type": "display_data",
          "data": {
            "text/plain": [
              "<IPython.core.display.Javascript object>"
            ],
            "application/javascript": [
              "(async (port, path, width, height, cache, element) => {\n",
              "    if (!google.colab.kernel.accessAllowed && !cache) {\n",
              "      return;\n",
              "    }\n",
              "    element.appendChild(document.createTextNode(''));\n",
              "    const url = await google.colab.kernel.proxyPort(port, {cache});\n",
              "    const iframe = document.createElement('iframe');\n",
              "    iframe.src = new URL(path, url).toString();\n",
              "    iframe.height = height;\n",
              "    iframe.width = width;\n",
              "    iframe.style.border = 0;\n",
              "    iframe.allow = [\n",
              "        'accelerometer',\n",
              "        'autoplay',\n",
              "        'camera',\n",
              "        'clipboard-read',\n",
              "        'clipboard-write',\n",
              "        'gyroscope',\n",
              "        'magnetometer',\n",
              "        'microphone',\n",
              "        'serial',\n",
              "        'usb',\n",
              "        'xr-spatial-tracking',\n",
              "    ].join('; ');\n",
              "    element.appendChild(iframe);\n",
              "  })(8050, \"/\", \"100%\", 650, false, window.element)"
            ]
          },
          "metadata": {}
        }
      ]
    },
    {
      "cell_type": "code",
      "source": [],
      "metadata": {
        "id": "SpBLV75aMKcJ"
      },
      "execution_count": null,
      "outputs": []
    }
  ]
}