{
  "nbformat": 4,
  "nbformat_minor": 0,
  "metadata": {
    "colab": {
      "provenance": [],
      "toc_visible": true,
      "mount_file_id": "10KnPm7hMmUPICbC5gpWVz6420wfpdo40",
      "authorship_tag": "ABX9TyMHB8sAMvw8L6Gn2WKi7QZw"
    },
    "kernelspec": {
      "name": "python3",
      "display_name": "Python 3"
    },
    "language_info": {
      "name": "python"
    }
  },
  "cells": [
    {
      "cell_type": "code",
      "source": [
        "# !pip install pycoingecko binance mplfinance"
      ],
      "metadata": {
        "id": "8X7YGtrJTQL7"
      },
      "execution_count": null,
      "outputs": []
    },
    {
      "cell_type": "code",
      "source": [
        "!pip install cryptocompare plotly"
      ],
      "metadata": {
        "colab": {
          "base_uri": "https://localhost:8080/"
        },
        "id": "AATZ5HlbYhcQ",
        "outputId": "0963e7d9-d97e-420b-c068-1499b468fcf8"
      },
      "execution_count": null,
      "outputs": [
        {
          "output_type": "stream",
          "name": "stdout",
          "text": [
            "Collecting cryptocompare\n",
            "  Downloading cryptocompare-0.7.6.tar.gz (6.0 kB)\n",
            "  Preparing metadata (setup.py) ... \u001b[?25l\u001b[?25hdone\n",
            "Requirement already satisfied: plotly in /usr/local/lib/python3.10/dist-packages (5.24.1)\n",
            "Requirement already satisfied: requests in /usr/local/lib/python3.10/dist-packages (from cryptocompare) (2.32.3)\n",
            "Requirement already satisfied: tenacity>=6.2.0 in /usr/local/lib/python3.10/dist-packages (from plotly) (9.0.0)\n",
            "Requirement already satisfied: packaging in /usr/local/lib/python3.10/dist-packages (from plotly) (24.2)\n",
            "Requirement already satisfied: charset-normalizer<4,>=2 in /usr/local/lib/python3.10/dist-packages (from requests->cryptocompare) (3.4.0)\n",
            "Requirement already satisfied: idna<4,>=2.5 in /usr/local/lib/python3.10/dist-packages (from requests->cryptocompare) (3.10)\n",
            "Requirement already satisfied: urllib3<3,>=1.21.1 in /usr/local/lib/python3.10/dist-packages (from requests->cryptocompare) (2.2.3)\n",
            "Requirement already satisfied: certifi>=2017.4.17 in /usr/local/lib/python3.10/dist-packages (from requests->cryptocompare) (2024.12.14)\n",
            "Building wheels for collected packages: cryptocompare\n",
            "  Building wheel for cryptocompare (setup.py) ... \u001b[?25l\u001b[?25hdone\n",
            "  Created wheel for cryptocompare: filename=cryptocompare-0.7.6-py3-none-any.whl size=6289 sha256=5c9327cad743e27abfacee33b4f6363e367747c8060dcc3c0b3ee7e8c2281ba7\n",
            "  Stored in directory: /root/.cache/pip/wheels/97/81/6a/261bc499b9d9bf8b391eea52c90a4746b477539564b0a66c94\n",
            "Successfully built cryptocompare\n",
            "Installing collected packages: cryptocompare\n",
            "Successfully installed cryptocompare-0.7.6\n"
          ]
        }
      ]
    },
    {
      "cell_type": "code",
      "source": [
        "# from pycoingecko import CoinGeckoAPI\n",
        "import cryptocompare\n",
        "import pandas as pd\n",
        "from datetime import datetime, timedelta\n",
        "from matplotlib import pyplot as plt\n",
        "from google.colab import  drive\n",
        "import os\n",
        "import numpy as np\n",
        "from itertools import islice\n",
        "import matplotlib.dates as mdates\n",
        "import plotly.graph_objects as go\n",
        "from plotly.subplots import make_subplots\n",
        "\n",
        "drive.mount('/drive')\n",
        "folder_path = '/drive/My Drive/Colab Notebooks/Crypto Project/Data/cryptocompare'\n",
        "plot_results = False\n",
        "CoinGecko = False"
      ],
      "metadata": {
        "colab": {
          "base_uri": "https://localhost:8080/"
        },
        "id": "iF9gHp4K3M4U",
        "outputId": "827a7bfd-13f0-4374-8a77-907b60e56c6f"
      },
      "execution_count": null,
      "outputs": [
        {
          "output_type": "stream",
          "name": "stdout",
          "text": [
            "Mounted at /drive\n"
          ]
        }
      ]
    },
    {
      "cell_type": "code",
      "source": [
        "cryptocurrency_release_dates = {\n",
        "    \"Bitcoin (BTC)\": \"2012-01-01\",\n",
        "    \"Ethereum (ETH)\": \"2015-07-30\",\n",
        "    \"Tether (USDT)\": \"2014-10-06\",\n",
        "    \"Binance Coin (BNB)\": \"2017-07-25\",\n",
        "    \"USD Coin (USDC)\": \"2018-09-26\",\n",
        "    \"Ripple (XRP)\": \"2012-01-01\",\n",
        "    \"Solana (SOL)\": \"2020-03-01\",\n",
        "    \"Cardano (ADA)\": \"2017-09-29\",\n",
        "    \"Dogecoin (DOGE)\": \"2013-12-06\",\n",
        "    \"Toncoin (TON)\": \"2021-08-01\",\n",
        "    \"Polkadot (DOT)\": \"2020-05-26\",\n",
        "    \"Litecoin (LTC)\": \"2012-01-01\",\n",
        "    \"Chainlink (LINK)\": \"2017-09-19\",\n",
        "    \"Uniswap (UNI)\": \"2020-09-16\",\n",
        "    \"Bitcoin Cash (BCH)\": \"2017-08-01\",\n",
        "    \"Stellar (XLM)\": \"2014-07-31\",\n",
        "    \"VeChain (VET)\": \"2018-08-01\",\n",
        "    \"TRON (TRX)\": \"2017-09-13\",\n",
        "    \"Filecoin (FIL)\": \"2020-10-15\",\n",
        "    \"Aave (AAVE)\": \"2020-10-01\"\n",
        "}"
      ],
      "metadata": {
        "id": "HG4afmUzSeEf"
      },
      "execution_count": null,
      "outputs": []
    },
    {
      "cell_type": "code",
      "source": [
        "for coin in cryptocurrency_release_dates.keys():\n",
        "  coin_short = coin.split('(')[1][:-1]\n",
        "  print(f\"{coin_short.lower()}\")"
      ],
      "metadata": {
        "colab": {
          "base_uri": "https://localhost:8080/"
        },
        "id": "vD-ZtMMkHdLI",
        "outputId": "368f1f47-570c-4e6c-8689-88f7f3622e7e"
      },
      "execution_count": null,
      "outputs": [
        {
          "output_type": "stream",
          "name": "stdout",
          "text": [
            "btc\n",
            "eth\n",
            "usdt\n",
            "bnb\n",
            "usdc\n",
            "xrp\n",
            "sol\n",
            "ada\n",
            "doge\n",
            "ton\n",
            "dot\n",
            "ltc\n",
            "link\n",
            "uni\n",
            "bch\n",
            "xlm\n",
            "vet\n",
            "trx\n",
            "fil\n",
            "aave\n"
          ]
        }
      ]
    },
    {
      "cell_type": "markdown",
      "source": [
        "#Darstellung mit CoinGecko (Depricated)"
      ],
      "metadata": {
        "id": "ZTMgF5Y7UwLx"
      }
    },
    {
      "cell_type": "code",
      "source": [
        "if CoinGecko:\n",
        "  cg = CoinGeckoAPI()\n",
        "  coin_list = cg.get_coins_list()\n",
        "\n",
        "  coins_df = pd.DataFrame(coin_list)\n",
        "  display(coins_df)"
      ],
      "metadata": {
        "id": "pUIMQp6I6npZ"
      },
      "execution_count": null,
      "outputs": []
    },
    {
      "cell_type": "markdown",
      "source": [
        "## Initial Data Loading"
      ],
      "metadata": {
        "id": "vPd3seWbMUS6"
      }
    },
    {
      "cell_type": "code",
      "source": [
        "if CoinGecko:\n",
        "  # Initialisiere die CoinGecko API\n",
        "  cg = CoinGeckoAPI()\n",
        "\n",
        "  coin_marked = cg.get_coins_markets(vs_currency='usd')\n",
        "  coins_df = pd.DataFrame(coin_marked)\n",
        "  top_10 = coins_df.sort_values(by='market_cap', ascending=False).head(10)['id'].values.tolist()\n",
        "  print(top_10)\n",
        "\n",
        "  \"\"\"\n",
        "  crypto_currencies = ['bitcoin', 'ethereum','litecoin', 'solana']\n",
        "  crypto_data = {}\n",
        "  file_path = '/drive/My Drive/Colab Notebooks/Crypto Project/Data'\n",
        "  for currency in top_10:\n",
        "    data = cg.get_coin_market_chart_range_by_id(id=currency,\n",
        "                                                vs_currency='eur',\n",
        "                                                from_timestamp=\"1728793948\", # '1262304000'# year = 2010\n",
        "                                                to_timestamp='1729312348')\n",
        "                                                # interval='daily')\n",
        "\n",
        "    prices = data['prices']  # Enthält Zeitstempel und Preise\n",
        "    volume = data['total_volumes']  # Enthält Zeitstempel und Handelsvolumen\n",
        "\n",
        "    df = pd.DataFrame(prices, columns=['Timestamp', 'Price'])\n",
        "    df['Volume'] = [v[1] for v in volume]\n",
        "\n",
        "    # Zeitstempel in Datumsformat umwandeln\n",
        "    df['Date'] = pd.to_datetime(df['Timestamp'], unit='ms')\n",
        "    df.set_index('Date', inplace=True)\n",
        "    df = df[['Price', 'Volume']]\n",
        "    df.to_csv(f'{file_path}/{currency}_file_eur.csv')\n",
        "  \"\"\"\n",
        "  for coin, release_date in cryptocurrency_release_dates.items():\n",
        "    coin_name = coin.split('(')[0]\n",
        "    coin_symbol = coin.split('(')[1][:-1]\n",
        "    # date_range = pd.date_range(start=release_date, end=\"2024-10-01\", freq='1ME')\n",
        "    date_range = pd.date_range(start=datetime.strptime(release_date, '%Y-%m-%d')-timedelta(days=1), end=\"2024-10-01\", freq='1YE')\n",
        "    print(release_date, date_range[0], date_range[-1])"
      ],
      "metadata": {
        "id": "jcC-7TQ_MT6I"
      },
      "execution_count": null,
      "outputs": []
    },
    {
      "cell_type": "markdown",
      "source": [
        "## Update Data with Coin Gecko (DEPRICATED)"
      ],
      "metadata": {
        "id": "_K6aqPzMjY43"
      }
    },
    {
      "cell_type": "code",
      "source": [
        "if CoinGecko:\n",
        "  # Initialisiere die CoinGecko API\n",
        "  cg = CoinGeckoAPI()\n",
        "\n",
        "\n",
        "  coin_marked = cg.get_coins_markets(vs_currency='usd')\n",
        "  coins_df = pd.DataFrame(coin_marked)\n",
        "  top_10 = coins_df.sort_values(by='market_cap', ascending=False).head(10)['id'].values.tolist()\n",
        "\n",
        "  crypto_currencies = ['bitcoin', 'ethereum','litecoin', 'solana']\n",
        "  crypto_data = {}\n",
        "  file_path = '/drive/My Drive/Colab Notebooks/Crypto Project/Data'\n",
        "  for currency in top_10:\n",
        "    # historical_data = cg.get_coin_market_chart_range_by_id(id='bitcoin',vs_currency='usd',from_timestamp='1605096000',to_timestamp='1605099600')\n",
        "    data = cg.get_coin_market_chart_by_id(id=currency,\n",
        "                                          vs_currency='usd',\n",
        "                                          days=2,\n",
        "                                          interval='daily',\n",
        "                                          include_market_cap='true')\n",
        "    prices = data['prices']  # Enthält Zeitstempel und Preise\n",
        "    volume = data['total_volumes']  # Enthält Zeitstempel und Handelsvolumen\n",
        "\n",
        "    df = pd.DataFrame(prices, columns=['Timestamp', 'Price'])\n",
        "    df['Volume'] = [v[1] for v in volume]\n",
        "\n",
        "    # Zeitstempel in Datumsformat umwandeln\n",
        "    df['Date'] = pd.to_datetime(df['Timestamp'], unit='ms')\n",
        "    df.set_index('Date', inplace=True)\n",
        "    df = df[['Price', 'Volume']]\n",
        "    if os.path.exists(file_path):\n",
        "      df_old = pd.read_csv(f'{folder_path}/{currency_file}', parse_dates=True, index_col='Date')\n",
        "      df_old.index = pd.to_datetime(df_old.index)\n",
        "      last_entry_date = df_old.index[-1]\n",
        "      new_entry_date = df.index[0]\n",
        "      print(last_entry_date, new_entry_date)\n",
        "      if new_entry_date - last_entry_date <= timedelta(days=1):\n",
        "        filtered_new_df = df[~df.index.isin(df_old.index)]\n",
        "        if not filtered_new_df.empty:\n",
        "          df = pd.concat([df_old, df], ignore_index=True)\n",
        "        else:\n",
        "          print('no new data')\n",
        "      else:\n",
        "        print('too much time gap')\n",
        "    df.to_csv(f'{file_path}/{currency}_file.csv')\n",
        "    crypto_data[currency] = df\n"
      ],
      "metadata": {
        "id": "7TqIcAggUiPN"
      },
      "execution_count": null,
      "outputs": []
    },
    {
      "cell_type": "markdown",
      "source": [
        "# Get hostorical data with CryptoCompare\n",
        "\n",
        "---\n",
        "\n"
      ],
      "metadata": {
        "id": "zTpYvjS_HI3h"
      }
    },
    {
      "cell_type": "code",
      "source": [
        "def get_historical_data(crypto_coin, currency, start_date, end_date):\n",
        "  API_KEY = 'a6de8441a437af764b5763b81477a3034fb71c70b6110f41f5bc4496bdf21f37'  # Replace with your CryptoCompare API key\n",
        "  url = 'https://min-api.cryptocompare.com/data/v2/histoday'\n",
        "  if type(start_date) == str:\n",
        "    start_date = datetime.strptime(start_date, '%Y-%m-%d')\n",
        "    end_date = datetime.strptime(end_date, '%Y-%m-%d')\n",
        "\n",
        "  limit = end_date - start_date\n",
        "  limit = limit.days\n",
        "  if limit > 2000:\n",
        "    print('limit is too high')\n",
        "    return\n",
        "  cryptocompare.cryptocompare._set_api_key_parameter(API_KEY)\n",
        "  try:\n",
        "    cc = cryptocompare.get_historical_price_day(crypto_coin, currency,\n",
        "                                                limit=limit, exchange='CCCAGG',\n",
        "                                                toTs=end_date)\n",
        "    df_cc = pd.DataFrame(cc)\n",
        "    df_cc['time'] = pd.to_datetime(df_cc['time'], unit='s')\n",
        "  except KeyError:\n",
        "    print('ERROR')\n",
        "    return\n",
        "  return df_cc\n",
        "\n",
        "\n",
        "for coin, release_date in cryptocurrency_release_dates.items():\n",
        "  coin_name = coin.split('(')[0]\n",
        "  coin_symbol = coin.split('(')[1][:-1]\n",
        "  date_range = pd.date_range(start=release_date, end=\"2024-10-01\", freq='1YE')\n",
        "  # date_range = pd.date_range(start=datetime.strptime(release_date, '%Y-%m-%d')-timedelta(days=1), end=\"2024-10-01\", freq='1YE')\n",
        "  print(f'Coin: {coin}')\n",
        "  for sd, ed in zip(date_range[:-1], date_range[1:]):\n",
        "    # print(f'Coin: {coin} \\n Start: {sd}\\n End: {ed}')\n",
        "    hist_data = get_historical_data(coin_symbol, 'USD', sd, ed)\n",
        "    if hist_data is None:\n",
        "      continue\n",
        "    # print(hist_data)\n",
        "    # hist_data.set_index('time', inplace=True)\n",
        "    hist_data = hist_data[['time', 'high', 'low', 'open', 'volumefrom', 'volumeto', 'close']].iloc[:-1]\n",
        "\n",
        "\n",
        "    if os.path.exists(folder_path):\n",
        "      if os.path.exists(f'{folder_path}/{coin_symbol}_file.csv'):\n",
        "        df_old = pd.read_csv(f'{folder_path}/{coin_symbol}_file.csv', parse_dates=['time'], index_col=0, date_format='%Y-%m-%d')\n",
        "        last_entry_date = df_old.index[-1]\n",
        "        new_entry_date = hist_data.index[0]\n",
        "        # print(last_entry_date, new_entry_date)\n",
        "        # print(f\" New Data:\\n{hist_data.head()}\\n\\n Old Data:\\n{df_old.head()}\\n\\n\\n\")\n",
        "        hist_data = pd.concat([df_old, hist_data], axis=0)\n",
        "        hist_data.to_csv(f'{folder_path}/{coin_symbol}_file.csv')\n",
        "      else:\n",
        "        hist_data.to_csv(f'{folder_path}/{coin_symbol}_file.csv')"
      ],
      "metadata": {
        "colab": {
          "base_uri": "https://localhost:8080/"
        },
        "id": "MOqCizXCFyxS",
        "outputId": "a19785fa-fd1e-4fda-a7d2-2655229c96ce"
      },
      "execution_count": null,
      "outputs": [
        {
          "output_type": "stream",
          "name": "stdout",
          "text": [
            "Coin: Bitcoin (BTC)\n",
            "Coin: Ethereum (ETH)\n",
            "Coin: Tether (USDT)\n",
            "Coin: Binance Coin (BNB)\n",
            "Coin: USD Coin (USDC)\n",
            "Coin: Ripple (XRP)\n",
            "Coin: Solana (SOL)\n",
            "Coin: Cardano (ADA)\n",
            "Coin: Dogecoin (DOGE)\n",
            "Coin: Toncoin (TON)\n",
            "Coin: Polkadot (DOT)\n",
            "Coin: Litecoin (LTC)\n",
            "Coin: Chainlink (LINK)\n",
            "Coin: Uniswap (UNI)\n",
            "Coin: Bitcoin Cash (BCH)\n",
            "Coin: Stellar (XLM)\n",
            "Coin: VeChain (VET)\n",
            "Coin: TRON (TRX)\n",
            "Coin: Filecoin (FIL)\n",
            "Coin: Aave (AAVE)\n"
          ]
        }
      ]
    },
    {
      "cell_type": "markdown",
      "source": [
        "## Connection with traditional API Request"
      ],
      "metadata": {
        "id": "VzoMpB_LjDMX"
      }
    },
    {
      "cell_type": "code",
      "source": [
        "  \"\"\"\n",
        "  # wiith traditional API request\n",
        "  params = {\n",
        "      'fsym': crypto_coin,\n",
        "      'tsym': currency,\n",
        "      'limit': limit,         # Number of days of data (limit is up to 2000 for free tier)\n",
        "      'toTs': int(end_date.timestamp()),  # The Unix timestamp for the last date\n",
        "      'api_key': API_KEY   # Your API key\n",
        "  }\n",
        "\n",
        "  # Make the API request\n",
        "  response = requests.get(url, params=params)\n",
        "\n",
        "  # Check if the request was successful\n",
        "  if response.status_code == 200:\n",
        "      if response.json()['Response'] == 'Error':\n",
        "        print(response.json()['Message'])\n",
        "        return None\n",
        "      data = response.json()['Data']['Data']\n",
        "      df = pd.DataFrame(data)\n",
        "      df['time'] = pd.to_datetime(df['time'], unit='s')\n",
        "      print(df)\n",
        "      return df\n",
        "\n",
        "  else:\n",
        "      print(f\"Failed to retrieve data: {response.status_code}\")\n",
        "      return None\n",
        "  \"\"\""
      ],
      "metadata": {
        "id": "CXSbD9smKjhw",
        "colab": {
          "base_uri": "https://localhost:8080/",
          "height": 105
        },
        "outputId": "06c9fd08-dfde-4150-c068-98dfe033d947"
      },
      "execution_count": null,
      "outputs": [
        {
          "output_type": "execute_result",
          "data": {
            "text/plain": [
              "'\\n# wiith traditional API request\\nparams = {\\n    \\'fsym\\': crypto_coin,\\n    \\'tsym\\': currency,\\n    \\'limit\\': limit,         # Number of days of data (limit is up to 2000 for free tier)\\n    \\'toTs\\': int(end_date.timestamp()),  # The Unix timestamp for the last date\\n    \\'api_key\\': API_KEY   # Your API key\\n}\\n\\n# Make the API request\\nresponse = requests.get(url, params=params)\\n\\n# Check if the request was successful\\nif response.status_code == 200:\\n    if response.json()[\\'Response\\'] == \\'Error\\':\\n      print(response.json()[\\'Message\\'])\\n      return None\\n    data = response.json()[\\'Data\\'][\\'Data\\']\\n    df = pd.DataFrame(data)\\n    df[\\'time\\'] = pd.to_datetime(df[\\'time\\'], unit=\\'s\\')\\n    print(df)\\n    return df\\n\\nelse:\\n    print(f\"Failed to retrieve data: {response.status_code}\")\\n    return None\\n'"
            ],
            "application/vnd.google.colaboratory.intrinsic+json": {
              "type": "string"
            }
          },
          "metadata": {},
          "execution_count": 15
        }
      ]
    },
    {
      "cell_type": "markdown",
      "source": [
        "## Get latest Updates in Crypto Currencies"
      ],
      "metadata": {
        "id": "nFFQhZjaKvvq"
      }
    },
    {
      "cell_type": "code",
      "source": [
        "for coin, release_date in cryptocurrency_release_dates.items():\n",
        "  coin_name = coin.split('(')[0]\n",
        "  coin_symbol = coin.split('(')[1][:-1]\n",
        "  release_date = pd.to_datetime(release_date)\n",
        "  try:\n",
        "    df_old = pd.read_csv(f'{folder_path}/{coin_symbol}_file.csv', parse_dates=['time'], index_col=0, date_format='%Y-%m-%d')\n",
        "    df_old = df_old[['time', 'high', 'low', 'open', 'volumefrom', 'volumeto', 'close']]\n",
        "\n",
        "  except FileNotFoundError:\n",
        "    print(f\"No file found for {coin_symbol}\")\n",
        "    continue\n",
        "\n",
        "  if not df_old.empty:\n",
        "      last_date = df_old['time'].max()\n",
        "  else:\n",
        "      last_date = release_date\n",
        "\n",
        "  # Ensure last_date is at least one day before today\n",
        "  today = pd.Timestamp.today().normalize()\n",
        "  last_date = pd.to_datetime(last_date)\n",
        "  if last_date >= today:\n",
        "      print(f\"No update needed for {coin_symbol}\")\n",
        "  else:\n",
        "      # Set the end_date for fetching new data (one day before today)\n",
        "      days_to_fetch = (today - last_date).days + 2 # just to be save\n",
        "      end_date = datetime.now() - timedelta(days=1)\n",
        "      last_timestamp = int(last_date.timestamp())\n",
        "\n",
        "      new_data = cryptocompare.get_historical_price_day(coin_symbol, 'USD',\n",
        "                                                        limit=days_to_fetch, exchange='CCCAGG',\n",
        "                                                        toTs=int(end_date.timestamp()))\n",
        "      df_new = pd.DataFrame(new_data)\n",
        "      df_new['time'] = pd.to_datetime(df_new['time'], unit='s')\n",
        "      df_new = df_new[['time', 'high', 'low', 'open', 'volumefrom', 'volumeto', 'close']]\n",
        "\n",
        "      # Filter new data to ensure it's only after the last date in df_old\n",
        "      df_new = df_new[df_new['time'] > last_date]\n",
        "\n",
        "      # Append new data to old data\n",
        "      df_updated = pd.concat([df_old, df_new], axis=0)\n",
        "\n",
        "      df_updated.to_csv(f'{folder_path}/{coin_symbol}_file.csv')\n",
        "\n",
        "      print(f\"Data updated for {coin_symbol}\")\n"
      ],
      "metadata": {
        "colab": {
          "base_uri": "https://localhost:8080/"
        },
        "id": "47vhQvjmKvaj",
        "outputId": "544d432b-4bd5-405c-f06f-f62f102326c8"
      },
      "execution_count": null,
      "outputs": [
        {
          "output_type": "stream",
          "name": "stdout",
          "text": [
            "Data updated for BTC\n",
            "Data updated for ETH\n",
            "Data updated for USDT\n",
            "Data updated for BNB\n",
            "Data updated for USDC\n",
            "Data updated for XRP\n",
            "Data updated for SOL\n",
            "Data updated for ADA\n",
            "Data updated for DOGE\n",
            "Data updated for TON\n",
            "Data updated for DOT\n",
            "Data updated for LTC\n",
            "Data updated for LINK\n",
            "Data updated for UNI\n",
            "Data updated for BCH\n",
            "Data updated for XLM\n",
            "Data updated for VET\n",
            "Data updated for TRX\n",
            "Data updated for FIL\n",
            "Data updated for AAVE\n"
          ]
        }
      ]
    },
    {
      "cell_type": "markdown",
      "source": [
        "#Build Dashboard"
      ],
      "metadata": {
        "id": "rLNB8cAZRgnZ"
      }
    },
    {
      "cell_type": "markdown",
      "source": [
        "## Load Data"
      ],
      "metadata": {
        "id": "atOcMgM7ZqKV"
      }
    },
    {
      "cell_type": "code",
      "source": [
        "\n",
        "coin_dict = {}\n",
        "for coin, release_date in cryptocurrency_release_dates.items():\n",
        "  coin_name = coin.split('(')[0]\n",
        "  coin_symbol = coin.split('(')[1][:-1]\n",
        "  release_date = pd.to_datetime(release_date)\n",
        "  try:\n",
        "    currency_df = pd.read_csv(f'{folder_path}/{coin_symbol}_file.csv', parse_dates=['time'], index_col=0, date_format='%Y-%m-%d')\n",
        "    currency_df = currency_df[['time', 'high', 'low', 'open', 'volumefrom', 'volumeto', 'close']]\n",
        "  except FileNotFoundError:\n",
        "    print(f\"No file found for {coin_symbol}\")\n",
        "    continue\n",
        "\n",
        "  coin_dict[coin_name] = currency_df"
      ],
      "metadata": {
        "id": "TFv4gQyhYqua"
      },
      "execution_count": null,
      "outputs": []
    },
    {
      "cell_type": "markdown",
      "source": [
        "## Classic Matplotlib All-In-One"
      ],
      "metadata": {
        "id": "xWhhMQDTjzIU"
      }
    },
    {
      "cell_type": "code",
      "source": [
        "if plot_results:\n",
        "  fig, ax1 = plt.subplots(figsize=(12, 8))\n",
        "  colors = plt.cm.get_cmap('tab20').colors\n",
        "  for nr, (coin, prices) in enumerate(coin_dict.items()):\n",
        "    if nr > 0:\n",
        "      ax_tmp = ax1.twinx()\n",
        "      # ax_tmp.step(prices.index, prices['Price'], where='mid', label=coin, linewidth=2, color=colors[nr])\n",
        "      ax_tmp.plot(prices['time'], prices['close'], label=coin, linewidth=2, color=colors[nr])\n",
        "      ax_tmp.set_ylabel(coin, color=colors[nr])\n",
        "      ax_tmp.tick_params(axis='y', labelcolor=colors[nr])\n",
        "    else:\n",
        "      # ax1.step(prices.index, prices['Price'], where='mid', label=coin, linewidth=2, color=colors[nr])\n",
        "      ax1.plot(prices['time'], prices['close'], label=coin, linewidth=2, color=colors[nr])\n",
        "      ax1.set_xlabel('Date')\n",
        "      ax1.set_ylabel(coin, color=colors[nr])\n",
        "      ax1.tick_params(axis='y', labelcolor=colors[nr])\n",
        "\n",
        "  # Formatting\n",
        "  fig.tight_layout()\n",
        "  plt.title('Bitcoin, Ethereum, and Solana Prices with Step Chart')\n",
        "  plt.xticks(rotation=45)\n",
        "  plt.legend()\n",
        "\n",
        "  # Show the plot\n",
        "  plt.show()"
      ],
      "metadata": {
        "id": "62w4jbLa9hxC"
      },
      "execution_count": null,
      "outputs": []
    },
    {
      "cell_type": "markdown",
      "source": [
        "## Interactive Plot with Plotly"
      ],
      "metadata": {
        "id": "W20eFhS-j6wJ"
      }
    },
    {
      "cell_type": "code",
      "source": [
        "\n",
        "def plotly_plot(coin_dict):\n",
        "\n",
        "  fig = go.Figure()\n",
        "\n",
        "  # Loop through each coin in your dictionary\n",
        "  colors = ['blue', 'orange', 'green', 'red', 'purple']  # Define some colors for different coins\n",
        "  for idx, (coin, prices) in enumerate(coin_dict.items()):\n",
        "      fig.add_trace(go.Scatter(\n",
        "          x=prices['time'],\n",
        "          y=prices['close'],\n",
        "          mode='lines',\n",
        "          name=coin,\n",
        "          line=dict(width=2, color=colors[idx % len(colors)]),\n",
        "          visible=True  # Initially make all traces visible\n",
        "      ))\n",
        "\n",
        "  # Add checkboxes (interactive visibility control)\n",
        "  fig.update_layout(\n",
        "      updatemenus=[\n",
        "          dict(\n",
        "              type=\"buttons\",\n",
        "              direction=\"down\",\n",
        "              showactive=True,\n",
        "              buttons=list([\n",
        "                  dict(label=\"Show All\",\n",
        "                      method=\"update\",\n",
        "                      args=[{\"visible\": [True] * len(coin_dict)},  # Show all coins\n",
        "                            {\"title\": \"All Coins\"}]),\n",
        "                  dict(label=\"Hide All\",\n",
        "                      method=\"update\",\n",
        "                      args=[{\"visible\": [False] * len(coin_dict)},  # Hide all coins\n",
        "                            {\"title\": \"No Coins\"}]),\n",
        "                  # Add individual buttons for each coin\n",
        "                  *[dict(label=f\"{coin}\",\n",
        "                        method=\"update\",\n",
        "                        args=[{\"visible\": [i == idx for i in range(len(coin_dict))]},  # Show only the selected coin\n",
        "                              {\"title\": f\"{coin} Price\"}])\n",
        "                    for idx, coin in enumerate(coin_dict)]\n",
        "              ]),\n",
        "          )\n",
        "      ]\n",
        "  )\n",
        "\n",
        "  # Layout formatting\n",
        "  fig.update_layout(\n",
        "      title=\"Cryptocurrency Prices\",\n",
        "      xaxis_title=\"Date\",\n",
        "      yaxis_title=\"Price (USD)\",\n",
        "      legend_title=\"Cryptocurrencies\",\n",
        "      xaxis=dict(tickformat='%Y-%m-%d'),  # Format x-axis as dates\n",
        "      hovermode=\"x unified\",\n",
        "  )\n",
        "  return fig\n"
      ],
      "metadata": {
        "id": "JH82NjMIchby"
      },
      "execution_count": null,
      "outputs": []
    },
    {
      "cell_type": "code",
      "source": [
        "if plot_results:\n",
        "  fig = plotly_plot(coin_dict)\n",
        "  fig.show()"
      ],
      "metadata": {
        "id": "n6NbxY7Ni2lZ"
      },
      "execution_count": null,
      "outputs": []
    },
    {
      "cell_type": "code",
      "source": [
        "# plt.close('all')"
      ],
      "metadata": {
        "id": "6xnhWhCDezOH"
      },
      "execution_count": null,
      "outputs": []
    },
    {
      "cell_type": "code",
      "source": [
        "if plot_results:\n",
        "  stats = {}\n",
        "  for coin, prices in coin_dict.items():\n",
        "    stats[coin] = {'min': min(prices['open']), 'max': max(prices['open'])}\n",
        "    print(coin)\n",
        "    print(stats[coin])\n",
        "    print()"
      ],
      "metadata": {
        "id": "KphO_x9MhSg0"
      },
      "execution_count": null,
      "outputs": []
    },
    {
      "cell_type": "markdown",
      "source": [
        "# Grouping"
      ],
      "metadata": {
        "id": "zxLuC1oKnOxM"
      }
    },
    {
      "cell_type": "code",
      "source": [
        "if plot_results:\n",
        "  df = pd.DataFrame(stats).T\n",
        "  df['range'] = df['max'] - df['min']\n",
        "\n",
        "  # Define thresholds for grouping (these can be adjusted)\n",
        "  low_threshold = df['range'].quantile(0.33)  # Lower 33% for low volatility\n",
        "  high_threshold = df['range'].quantile(0.66)  # Upper 33% for high volatility\n",
        "\n",
        "  # Classify the coins into three groups\n",
        "  def classify_volatility(row):\n",
        "      if row['range'] <= low_threshold:\n",
        "          return 'Low Volatility'\n",
        "      elif row['range'] <= high_threshold:\n",
        "          return 'Medium Volatility'\n",
        "      else:\n",
        "          return 'High Volatility'\n",
        "\n",
        "  df['volatility_group'] = df.apply(classify_volatility, axis=1)\n",
        "\n",
        "  # Display the coins grouped by volatility\n",
        "  grouped_coins = df.groupby('volatility_group').apply(lambda x: list(x.index))\n",
        "  for group, coins in grouped_coins.items():\n",
        "      print(f\"{group}: {', '.join(coins)}\")\n"
      ],
      "metadata": {
        "id": "d8itVJWSke09"
      },
      "execution_count": null,
      "outputs": []
    },
    {
      "cell_type": "code",
      "source": [
        "if plot_results:\n",
        "  df = pd.DataFrame(stats).T\n",
        "  df['range'] = df['max'] - df['min']\n",
        "\n",
        "  # Sort coins by their range values\n",
        "  df_sorted = df.sort_values('range')\n",
        "\n",
        "  # Grouping coins into groups of 2-3 similar ranges\n",
        "  grouped_coins = []\n",
        "  group_size = 3  # Target group size\n",
        "\n",
        "  # Loop through sorted coins and create groups\n",
        "  for i in range(0, len(df_sorted), group_size):\n",
        "      group = df_sorted.iloc[i:i + group_size]\n",
        "      grouped_coins.append(list(group.index))\n",
        "\n",
        "  # Print the groups\n",
        "  for idx, group in enumerate(grouped_coins):\n",
        "      print(f\"Group {idx + 1}: {', '.join(group)}\")"
      ],
      "metadata": {
        "id": "tNdE_NeSm3wt"
      },
      "execution_count": null,
      "outputs": []
    },
    {
      "cell_type": "markdown",
      "source": [
        "## Similar Range Plot"
      ],
      "metadata": {
        "id": "yHycYUrMaSZM"
      }
    },
    {
      "cell_type": "markdown",
      "source": [
        "## Clear all GO-**Figures**"
      ],
      "metadata": {
        "id": "El76GIKWiVZA"
      }
    },
    {
      "cell_type": "code",
      "source": [
        "def plot_group(group_coins):\n",
        "  fig = go.Figure()\n",
        "\n",
        "  # Loop through each coin in your dictionary\n",
        "  colors = ['blue', 'orange', 'green', 'red', 'purple']  # Define some colors for different coins\n",
        "\n",
        "  for idx, (coin, prices) in enumerate(group_coins.items()):\n",
        "    go.Scatter(\n",
        "        x=prices['time'],\n",
        "        y=prices['close'],\n",
        "        mode='lines',\n",
        "        name=coin,\n",
        "        line=dict(width=2, color=colors[idx]))\n",
        "\n",
        "\n",
        "\n",
        "  # Layout formatting\n",
        "  fig.update_layout(\n",
        "      title=\"Cryptocurrency Prices\",\n",
        "      xaxis_title=\"Date\",\n",
        "      yaxis_title=\"Price (USD)\",\n",
        "      legend_title=\"Cryptocurrencies\",\n",
        "      xaxis=dict(tickformat='%Y-%m-%d'),  # Format x-axis as dates\n",
        "      hovermode=\"x unified\",\n",
        "  )\n",
        "\n",
        "# Show the figure\n"
      ],
      "metadata": {
        "id": "EtygvBhEahhD"
      },
      "execution_count": null,
      "outputs": []
    },
    {
      "cell_type": "markdown",
      "source": [
        "## Matplotlib Pyplot Figure"
      ],
      "metadata": {
        "id": "M9GR_sCAfvEF"
      }
    },
    {
      "cell_type": "code",
      "source": [
        "def plot_group_pyplot(group_coins):\n",
        "    fig, ax = plt.subplots(figsize=(10, 6))\n",
        "\n",
        "    # Define some colors for the different coins\n",
        "    colors = ['blue', 'orange', 'green', 'red', 'purple']\n",
        "\n",
        "    # Loop through each coin in your dictionary\n",
        "    for idx, (coin, prices) in enumerate(group_coins.items()):\n",
        "        ax.plot(prices['time'], prices['close'], label=coin, color=colors[idx], linewidth=2)\n",
        "\n",
        "    # Formatting the plot\n",
        "    ax.set_title(\"Cryptocurrency Prices\", fontsize=16)\n",
        "    ax.set_xlabel(\"Date\", fontsize=12)\n",
        "    ax.set_ylabel(\"Price (USD)\", fontsize=12)\n",
        "    ax.legend(title=\"Cryptocurrencies\")\n",
        "\n",
        "    # Format the x-axis for dates\n",
        "    ax.xaxis.set_major_formatter(mdates.DateFormatter('%Y-%m-%d'))\n",
        "    ax.xaxis.set_major_locator(mdates.AutoDateLocator())\n",
        "\n",
        "    # Rotate the x-axis labels for better readability\n",
        "    plt.xticks(rotation=45)\n",
        "\n",
        "    # Display grid and plot\n",
        "    ax.grid(True)\n",
        "    plt.tight_layout()  # Adjust layout to prevent overlap\n",
        "    plt.show()\n"
      ],
      "metadata": {
        "id": "yu61d4CMfVej"
      },
      "execution_count": null,
      "outputs": []
    },
    {
      "cell_type": "code",
      "source": [
        "if plot_results:\n",
        "  for idx, group in enumerate(grouped_coins):\n",
        "    plot_group_pyplot({coin: prices for coin, prices in coin_dict.items() if coin in grouped_coins})\n",
        "    plt.show()"
      ],
      "metadata": {
        "id": "3pHb3kYGm5p5"
      },
      "execution_count": null,
      "outputs": []
    },
    {
      "cell_type": "markdown",
      "source": [
        "# Normalize Data"
      ],
      "metadata": {
        "id": "0AwRvbM4hxHs"
      }
    },
    {
      "cell_type": "code",
      "source": [
        "if plot_results:\n",
        "  norm_coin_dict = {}\n",
        "  for coin, prices in coin_dict.items():\n",
        "    mean_close = prices['close'].mean()\n",
        "    std_close = prices['close'].std()\n",
        "    max_close = prices['close'].max()\n",
        "    df_std_norm = pd.DataFrame()\n",
        "\n",
        "    df_std_norm['zscore_close'] = (prices['close'] - mean_close) / std_close\n",
        "    # Step 2: Apply a Non-Linear Scaling (e.g., hyperbolic tangent)\n",
        "    # This will compress large deviations from the mean and smooth out extreme values\n",
        "    df_std_norm['scaled_close'] = np.tanh(df_std_norm['zscore_close'])\n",
        "    c = 1e-5  # You can adjust this constant based on your data\n",
        "    df_std_norm['log_close'] = np.log(prices['close'] + c)\n",
        "\n",
        "    # Step 3 (Optional): Rescale back to a more interpretable range if needed\n",
        "    # For example, you can map the values back to 0-1 range if you prefer\n",
        "    df_std_norm['close'] = (df_std_norm['log_close'] - df_std_norm['log_close'].min()) / (df_std_norm['log_close'].max() - df_std_norm['log_close'].min())\n",
        "\n",
        "    df_std_norm['time'] = prices['time']\n",
        "\n",
        "    df_norm = pd.DataFrame()\n",
        "    df_norm['close'] = prices['close'] / max_close\n",
        "    df_norm['time'] = prices['time']\n",
        "    norm_coin_dict[f\"std_norm_{coin}\"] = df_std_norm\n",
        "    norm_coin_dict[f\"max_norm_{coin}\"] = df_norm"
      ],
      "metadata": {
        "id": "3JF-YNqadgvd"
      },
      "execution_count": null,
      "outputs": []
    },
    {
      "cell_type": "code",
      "source": [
        "if plot_results:\n",
        "  fig = plotly_plot(norm_coin_dict)\n",
        "  fig.show()"
      ],
      "metadata": {
        "id": "yWbi_WbojCOR"
      },
      "execution_count": null,
      "outputs": []
    },
    {
      "cell_type": "code",
      "source": [],
      "metadata": {
        "id": "cRICIuBYjE05"
      },
      "execution_count": null,
      "outputs": []
    }
  ]
}