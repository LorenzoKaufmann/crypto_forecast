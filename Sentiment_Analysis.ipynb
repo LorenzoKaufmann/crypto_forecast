{
  "nbformat": 4,
  "nbformat_minor": 0,
  "metadata": {
    "colab": {
      "provenance": [],
      "toc_visible": true,
      "mount_file_id": "1NBkp3oRsjT1HInAUhsua5Vtso8qGExff",
      "authorship_tag": "ABX9TyPB+6MuM3mSjcLjFayUI06b",
      "include_colab_link": true
    },
    "kernelspec": {
      "name": "python3",
      "display_name": "Python 3"
    },
    "language_info": {
      "name": "python"
    }
  },
  "cells": [
    {
      "cell_type": "markdown",
      "metadata": {
        "id": "view-in-github",
        "colab_type": "text"
      },
      "source": [
        "<a href=\"https://colab.research.google.com/github/LorenzoKaufmann/crypto_forecast/blob/main/Sentiment_Analysis.ipynb\" target=\"_parent\"><img src=\"https://colab.research.google.com/assets/colab-badge.svg\" alt=\"Open In Colab\"/></a>"
      ]
    },
    {
      "cell_type": "markdown",
      "source": [
        "##Import"
      ],
      "metadata": {
        "id": "A8Ov3kuizaiV"
      }
    },
    {
      "cell_type": "code",
      "source": [
        "from datetime import datetime, timedelta\n",
        "from textblob import TextBlob\n",
        "import pandas as pd\n",
        "import spacy\n",
        "from collections import Counter\n",
        "import seaborn as sns\n",
        "import matplotlib.pyplot as plt\n",
        "import numpy as np\n",
        "import scipy.stats as stats\n",
        "import os\n"
      ],
      "metadata": {
        "id": "ouVeWe5L6uxB"
      },
      "execution_count": 1,
      "outputs": []
    },
    {
      "cell_type": "code",
      "source": [
        "from nltk.corpus import stopwords\n",
        "from nltk.tokenize import word_tokenize\n",
        "from nltk.sentiment import SentimentIntensityAnalyzer\n",
        "import nltk\n",
        "# Download NLTK resources\n",
        "nltk.download(\"punkt\")\n",
        "nltk.download(\"stopwords\")\n",
        "nltk.download(\"vader_lexicon\")\n",
        "nltk.download('punkt_tab')\n"
      ],
      "metadata": {
        "colab": {
          "base_uri": "https://localhost:8080/"
        },
        "id": "Vd_g-oNBsJpf",
        "outputId": "f33f52c6-4008-4c82-f0eb-d2c5ccf870c7"
      },
      "execution_count": 2,
      "outputs": [
        {
          "output_type": "stream",
          "name": "stderr",
          "text": [
            "[nltk_data] Downloading package punkt to /root/nltk_data...\n",
            "[nltk_data]   Unzipping tokenizers/punkt.zip.\n",
            "[nltk_data] Downloading package stopwords to /root/nltk_data...\n",
            "[nltk_data]   Unzipping corpora/stopwords.zip.\n",
            "[nltk_data] Downloading package vader_lexicon to /root/nltk_data...\n",
            "[nltk_data] Downloading package punkt_tab to /root/nltk_data...\n",
            "[nltk_data]   Unzipping tokenizers/punkt_tab.zip.\n"
          ]
        },
        {
          "output_type": "execute_result",
          "data": {
            "text/plain": [
              "True"
            ]
          },
          "metadata": {},
          "execution_count": 2
        }
      ]
    },
    {
      "cell_type": "code",
      "source": [
        "from google.colab import drive\n",
        "drive.mount('/drive')\n",
        "folder_path = '/drive/My Drive/Colab Notebooks/Crypto Project/Data/reddit_posts'\n",
        "folder_path_daily_update = '/drive/My Drive/Colab Notebooks/Crypto Project/Data/reddit_posts/Daily_Update'\n",
        "test_case = False"
      ],
      "metadata": {
        "colab": {
          "base_uri": "https://localhost:8080/"
        },
        "id": "d3ZtBPKQ69OU",
        "outputId": "6879ccfa-c97f-4311-8e44-18d038f63f3b"
      },
      "execution_count": 3,
      "outputs": [
        {
          "output_type": "stream",
          "name": "stdout",
          "text": [
            "Mounted at /drive\n"
          ]
        }
      ]
    },
    {
      "cell_type": "markdown",
      "source": [
        "###read JSON File"
      ],
      "metadata": {
        "id": "hNuqaN8oBsc7"
      }
    },
    {
      "cell_type": "code",
      "source": [
        "def read_json_data(folder_path, get_function='all'):\n",
        "  days_list = [f[17:-5] for f in os.listdir(folder_path)\n",
        "    if os.path.isfile(os.path.join(folder_path, f))]\n",
        "  print(f'List of Days: {days_list}')\n",
        "  all_posts = pd.DataFrame(columns=['index', 'title', 'score', 'text', 'author', 'url',\n",
        "                                    'num_comments', 'subreddit', 'fetch_method'])\n",
        "  for day in days_list:\n",
        "    filename = f'reddit_posts_{get_function}_{day}.json'\n",
        "    posts_df = pd.read_json(os.path.join(folder_path, filename),  orient='index')\n",
        "    posts_df['created_utc'] = pd.to_datetime(posts_df['created_utc'], unit='s')\n",
        "    posts_df = posts_df.reset_index().set_index('created_utc')\n",
        "    if all_posts.empty:\n",
        "      all_posts = posts_df\n",
        "    else:\n",
        "      all_posts = pd.concat([all_posts, posts_df])\n",
        "  all_posts = all_posts.drop_duplicates(subset='index', keep='first')\n",
        "  return all_posts\n",
        "\n",
        "\n",
        "all_reddit_posts = read_json_data(folder_path_daily_update, get_function='all')"
      ],
      "metadata": {
        "colab": {
          "base_uri": "https://localhost:8080/"
        },
        "id": "AOdZH76SBrkc",
        "outputId": "18bb838d-e7ea-4882-853e-8a6f58ed7ee8"
      },
      "execution_count": 4,
      "outputs": [
        {
          "output_type": "stream",
          "name": "stdout",
          "text": [
            "List of Days: ['2024_11_22', '2024_11_23', '2024_11_25', '2024_11_26', '2024_11_27', '2024_11_29', '2024_12_03', '2024_12_04', '2024_12_11', '2024_12_16', '2025_07_20']\n"
          ]
        }
      ]
    },
    {
      "cell_type": "code",
      "source": [
        "test_case = True\n",
        "if test_case:\n",
        "  print(all_reddit_posts.columns)\n",
        "  print(all_reddit_posts.describe())\n",
        "  print(all_reddit_posts.head())"
      ],
      "metadata": {
        "id": "CvVV5A82Cb2N",
        "colab": {
          "base_uri": "https://localhost:8080/"
        },
        "outputId": "879ee3d4-4631-4467-e6b9-df081bb21ad1"
      },
      "execution_count": 5,
      "outputs": [
        {
          "output_type": "stream",
          "name": "stdout",
          "text": [
            "Index(['index', 'title', 'score', 'author', 'url', 'text', 'num_comments',\n",
            "       'subreddit', 'fetch_method'],\n",
            "      dtype='object')\n",
            "              score  num_comments\n",
            "count   4997.000000   4997.000000\n",
            "mean    1584.958175    318.075846\n",
            "std     3814.252195    898.960994\n",
            "min        0.000000      0.000000\n",
            "25%        0.000000     12.000000\n",
            "50%       20.000000     53.000000\n",
            "75%      392.000000    223.000000\n",
            "max    53906.000000  42698.000000\n",
            "                       index  \\\n",
            "created_utc                    \n",
            "2024-11-17 16:36:45  1gthhns   \n",
            "2024-11-22 00:00:23  1gwuall   \n",
            "2024-11-21 21:15:06  1gwqj7i   \n",
            "2024-11-21 21:58:08  1gwrjg2   \n",
            "2024-11-21 18:04:20  1gwlsx3   \n",
            "\n",
            "                                                                 title  score  \\\n",
            "created_utc                                                                     \n",
            "2024-11-17 16:36:45  It’s Scam Awareness Week at Kraken and we’re s...     94   \n",
            "2024-11-22 00:00:23  Daily Crypto Discussion - November 22, 2024 (G...     52   \n",
            "2024-11-21 21:15:06  Satoshi Nakamoto is now the 18th richest perso...   1360   \n",
            "2024-11-21 21:58:08  MicroStrategy's stock dives 20% after short-se...    487   \n",
            "2024-11-21 18:04:20  SEC.gov | SEC Chair Gensler to Depart Agency o...    947   \n",
            "\n",
            "                                   author  \\\n",
            "created_utc                                 \n",
            "2024-11-17 16:36:45        krakenexchange   \n",
            "2024-11-22 00:00:23          CryptoDaily-   \n",
            "2024-11-21 21:15:06            BigRon1977   \n",
            "2024-11-21 21:58:08  goldyluckinblokchain   \n",
            "2024-11-21 18:04:20          LargeSnorlax   \n",
            "\n",
            "                                                                   url  \\\n",
            "created_utc                                                              \n",
            "2024-11-17 16:36:45  https://www.reddit.com/r/CryptoCurrency/commen...   \n",
            "2024-11-22 00:00:23  https://www.reddit.com/r/CryptoCurrency/commen...   \n",
            "2024-11-21 21:15:06  https://finbold.com/satoshi-nakamoto-is-now-th...   \n",
            "2024-11-21 21:58:08  https://www.theblock.co/post/327728/microstrat...   \n",
            "2024-11-21 18:04:20  https://www.sec.gov/newsroom/press-releases/20...   \n",
            "\n",
            "                                                                  text  \\\n",
            "created_utc                                                              \n",
            "2024-11-17 16:36:45  Hi Redditors!   \\n  \\nAs the world of digital ...   \n",
            "2024-11-22 00:00:23  **Welcome to the Daily Crypto Discussion threa...   \n",
            "2024-11-21 21:15:06                                                      \n",
            "2024-11-21 21:58:08                                                      \n",
            "2024-11-21 18:04:20                                                      \n",
            "\n",
            "                     num_comments       subreddit    fetch_method  \n",
            "created_utc                                                        \n",
            "2024-11-17 16:36:45            43  CryptoCurrency         new_hot  \n",
            "2024-11-22 00:00:23           625  CryptoCurrency  rising_new_hot  \n",
            "2024-11-21 21:15:06           205  CryptoCurrency  rising_new_hot  \n",
            "2024-11-21 21:58:08           180  CryptoCurrency  rising_new_hot  \n",
            "2024-11-21 18:04:20           207  CryptoCurrency  rising_new_hot  \n"
          ]
        }
      ]
    },
    {
      "cell_type": "code",
      "source": [
        "def text_analysis(row, colname):\n",
        "    # print(text)\n",
        "    text = row[colname]\n",
        "    norm_score = row['norm_score']\n",
        "    analysis = TextBlob(text)\n",
        "    sentiment = analysis.sentiment.polarity\n",
        "    return sentiment * norm_score"
      ],
      "metadata": {
        "id": "tC4P0mXUDlyX"
      },
      "execution_count": 7,
      "outputs": []
    },
    {
      "cell_type": "code",
      "source": [
        "def text_analysis_VADER(row, colname, sia):\n",
        "    # print(text)\n",
        "    text = row[colname]\n",
        "    norm_score = row['norm_score']\n",
        "    sentiment = sia.polarity_scores(text)[\"compound\"]  # Analyze sentiment\n",
        "    return sentiment # * norm_score\n"
      ],
      "metadata": {
        "id": "w0t9Ta0DrmxW"
      },
      "execution_count": 8,
      "outputs": []
    },
    {
      "cell_type": "code",
      "source": [
        "if test_case:\n",
        "  txt = all_reddit_posts['text'].iloc[0]\n",
        "  print(txt)\n",
        "  analysis = TextBlob(txt)\n",
        "  sentiment = analysis.sentiment.polarity\n",
        "  print(sentiment)"
      ],
      "metadata": {
        "id": "p8mkh210GXB-",
        "colab": {
          "base_uri": "https://localhost:8080/"
        },
        "outputId": "f0406c79-5308-4e52-9fcd-199b6a9aecf2"
      },
      "execution_count": 6,
      "outputs": [
        {
          "output_type": "stream",
          "name": "stdout",
          "text": [
            "Hi Redditors!   \n",
            "  \n",
            "As the world of digital finance continues to evolve, it's essential to stay informed about the risks associated with fraudulent activities. It has been estimated that around $485.6 Billion was lost in Scams & Schemes in 2023 (source - NASDAQ 2024 Global Financial Crime Report). During Scam Awareness Week, we aim to educate users on how to protect themselves from scams and highlight the industry's efforts to create a safer ecosystem.\n",
            "\n",
            "Follow our socials for more scam awareness tips and be sure to tune in this **Thursday November 21st** at 1pm ET (18:00 UTC) for a **special live stream** with Scam-baiter **Kitboga** and Kraken’s CISO **Nick Percoco**. Tune in on [Kit’s Twitch](https://www.twitch.tv/kitboga)! \n",
            "\n",
            "(ICYMI the last time Nick P & Kitboga got together, they got revenge on an extortion scammer. [https://www.youtube.com/watch?v=RfgqMVheROA](https://www.youtube.com/watch?v=RfgqMVheROA)) \n",
            "\n",
            "There’s a lot of advice out there, here are some practical tips...  \n",
            "\n",
            "\n",
            "https://preview.redd.it/tkoiyhuroh1e1.png?width=1920&format=png&auto=webp&s=20fec62f42742c9a907ab2ac7e3b160003f1245d\n",
            "\n",
            "# Stay Skeptical\n",
            "\n",
            "In today’s world, scams are more sophisticated than ever, so staying skeptical is a must. If something seems too good to be true—whether it’s a “prize” you never entered to win or a quick, guaranteed investment return—trust your gut and question it. Scammers often use excitement or urgency to push you into acting fast. Instead of rushing, pause and double-check. Search for reviews, verify contact info independently, and never feel pressured into making a decision on the spot. When it comes to unexpected offers or requests, a little doubt can go a long way in protecting you.\n",
            "\n",
            "# Boost Your Security\n",
            "\n",
            "Strengthening your digital security doesn’t have to be complicated, but it makes a world of difference. Start with the basics: use strong, unique passwords for each account (a password manager can help!), turn on Two-Factor Authentication (2FA) wherever possible, and update your software regularly to stay protected from vulnerabilities. Check your accounts every so often for any strange activity, and see if your email or usernames have been involved in any data breaches on sites like haveibeenpwned.com. These small steps are like locking your doors online—they make you much harder to target.\n",
            "\n",
            "# Stay Calm\n",
            "\n",
            "Scammers often play on fear, urgency, or excitement to get you to act without thinking. Whether it’s a supposed “emergency” call from a fake tech support rep, a warning about “suspicious” bank activity, or even a message from a “loved one” needing money urgently, stay calm. Taking a breath and assessing the situation will help you avoid falling for these high-pressure tactics. Think carefully, verify independently, and remember that legitimate companies won’t rush you into decisions. Keeping calm is one of the best ways to see through a scam.\n",
            "\n",
            "# Remain Private\n",
            "\n",
            "Your personal information is valuable, and scammers are eager to get their hands on it. Be cautious with what you share online—whether it’s on social media, forms, or even email. Only provide sensitive details when you’re sure who you’re dealing with, and verify that they truly need that info. Take a moment to review your privacy settings on apps and limit permissions to only what’s necessary. It’s easier than you might think for scammers to piece together small bits of info to impersonate you or access your accounts, so keeping your details private is essential.\n",
            "\n",
            "# Be Vigilant\n",
            "\n",
            "Scammers and hackers are always on the lookout for openings, so a little vigilance goes a long way. Double-check URLs and email addresses for minor errors—they’re often a sign of phishing. Don’t open attachments or click on links from unexpected emails, and keep an eye on your accounts for unusual activity. Regularly check if any of your info has been exposed in a data breach (haveibeenpwned.com is a great tool for this) and secure your accounts if needed. Staying vigilant helps you spot red flags early and keeps you one step ahead of potential threats.\n",
            "\n",
            "\n",
            "\n",
            "We’d like to thank you for taking the time to read these tips—staying informed is half the battle! Keep an eye out for more security themed content on Kraken’s [Twitter](https://x.com/krakenfx), [Instagram](https://www.instagram.com/krakenfx/), [LinkedIn](https://www.linkedin.com/company/krakenfx/) and [TikTok](https://www.tiktok.com/@krakenfx) this week. Until then, stay safe out there. \n",
            "\n",
            "\n",
            "\n",
            "**Kraken’s Official Social Channels:**\n",
            "\n",
            "[https://x.com/krakenfx](https://x.com/krakenfx)\n",
            "\n",
            "[https://www.instagram.com/krakenfx/](https://www.instagram.com/krakenfx/) \n",
            "\n",
            "[https://www.linkedin.com/company/krakenfx/](https://www.linkedin.com/company/krakenfx/) \n",
            "\n",
            "[https://www.tiktok.com/@krakenfx](https://www.tiktok.com/@krakenfx) \n",
            "\n",
            "[https://www.youtube.com/@KrakenCryptoExchange](https://www.youtube.com/@KrakenCryptoExchange) \n",
            "0.11832863827349123\n"
          ]
        }
      ]
    },
    {
      "cell_type": "code",
      "source": [
        "print(all_reddit_posts.columns)"
      ],
      "metadata": {
        "colab": {
          "base_uri": "https://localhost:8080/"
        },
        "id": "sCCyAQIfhIGh",
        "outputId": "cc0c5479-3191-4d54-fe9f-f846e0144d08"
      },
      "execution_count": null,
      "outputs": [
        {
          "output_type": "stream",
          "name": "stdout",
          "text": [
            "Index(['index', 'title', 'score', 'author', 'url', 'text', 'num_comments',\n",
            "       'subreddit', 'fetch_method'],\n",
            "      dtype='object')\n"
          ]
        }
      ]
    },
    {
      "cell_type": "code",
      "source": [
        "max_score, min_score = (all_reddit_posts['score'].max(), all_reddit_posts['score'].min())\n",
        "sia = SentimentIntensityAnalyzer()\n",
        "\n",
        "all_reddit_posts['norm_score'] = all_reddit_posts['score'] / max_score\n",
        "all_reddit_posts['sent_analysis_text'] = all_reddit_posts.apply(text_analysis, args=('text',), axis=1)\n",
        "all_reddit_posts['sent_analysis_title'] = all_reddit_posts.apply(text_analysis, args=('title',), axis=1)\n",
        "all_reddit_posts['sent_analysis_title_VADER'] = all_reddit_posts.apply(text_analysis_VADER, args=('title', sia), axis=1)"
      ],
      "metadata": {
        "id": "7ZCVpAnODvKa"
      },
      "execution_count": 9,
      "outputs": []
    },
    {
      "cell_type": "code",
      "source": [
        "print(all_reddit_posts['sent_analysis_text'].describe())\n",
        "print(all_reddit_posts['sent_analysis_title'].describe())\n",
        "print(all_reddit_posts['sent_analysis_title_VADER'].describe())\n",
        "\n",
        "print(all_reddit_posts['norm_score'].describe())"
      ],
      "metadata": {
        "colab": {
          "base_uri": "https://localhost:8080/"
        },
        "id": "U7I6DZ4mEkbR",
        "outputId": "188c8b28-0bb9-470d-a1fe-09867e8fca09"
      },
      "execution_count": 10,
      "outputs": [
        {
          "output_type": "stream",
          "name": "stdout",
          "text": [
            "count    4997.000000\n",
            "mean        0.001386\n",
            "std         0.010502\n",
            "min        -0.266667\n",
            "25%         0.000000\n",
            "50%         0.000000\n",
            "75%         0.000002\n",
            "max         0.269311\n",
            "Name: sent_analysis_text, dtype: float64\n",
            "count    4997.000000\n",
            "mean        0.001452\n",
            "std         0.017965\n",
            "min        -0.298035\n",
            "25%         0.000000\n",
            "50%         0.000000\n",
            "75%         0.000000\n",
            "max         0.211386\n",
            "Name: sent_analysis_title, dtype: float64\n",
            "count    4997.000000\n",
            "mean        0.018098\n",
            "std         0.341810\n",
            "min        -0.948100\n",
            "25%         0.000000\n",
            "50%         0.000000\n",
            "75%         0.202300\n",
            "max         0.938100\n",
            "Name: sent_analysis_title_VADER, dtype: float64\n",
            "count    4997.000000\n",
            "mean        0.029402\n",
            "std         0.070757\n",
            "min         0.000000\n",
            "25%         0.000000\n",
            "50%         0.000371\n",
            "75%         0.007272\n",
            "max         1.000000\n",
            "Name: norm_score, dtype: float64\n"
          ]
        }
      ]
    },
    {
      "cell_type": "code",
      "source": [
        "def plot_sentiment_distribution(df, column_name, days_ago=60):\n",
        "    current_date = datetime.now()\n",
        "    x_days_ago = current_date - timedelta(days=days_ago)\n",
        "    df = df.loc[df.index >= x_days_ago]\n",
        "    df = df.loc[df.index >= \"2021-01-01\"]\n",
        "    # Resample by day and calculate the mean for each day\n",
        "    daily_mean = df[column_name].resample('D').mean()\n",
        "    daily_median = df[column_name].resample('D').median()\n",
        "    daily_std = df[column_name].resample('D').std()\n",
        "    df_reset = df[['num_comments', 'fetch_method', 'index', column_name]].reset_index()\n",
        "    df_reset[\"month\"] = df_reset[\"created_utc\"].dt.month.astype(str) + \" \" + df_reset[\"created_utc\"].dt.year.astype(str)\n",
        "\n",
        "\n",
        "    print(df_reset.columns)\n",
        "    print(df_reset.head())\n",
        "\n",
        "    # Create a figure with two subplots\n",
        "    fig, axes = plt.subplots(3, 1, figsize=(12, 15),\n",
        "                             gridspec_kw={'height_ratios': [2, 1, 2]},\n",
        "                             sharex=False)\n",
        "\n",
        "\n",
        "    mean = df[column_name].mean()\n",
        "    std = df[column_name].std()\n",
        "    x = np.linspace(df[column_name].min(), df[column_name].max(), 100)\n",
        "    normal_dist = stats.norm.pdf(x, mean, std) * 100\n",
        "    # print(f'Normal Dist: {normal_dist}')\n",
        "\n",
        "    # Plot histogram for 'Sentiment Score' on the first subplot\n",
        "    sns.histplot(df[column_name], bins=50, kde=True, ax=axes[0])\n",
        "    axes[0].plot(x, normal_dist, color=\"red\", label=\"Normal Distribution\")\n",
        "    axes[0].set_title('Distribution of Sentiment Scores')\n",
        "    axes[0].set_xlabel('Sentiment Score')\n",
        "    axes[0].set_ylabel('Frequency')\n",
        "\n",
        "    # Plot daily mean sentiment scores on the second subplot\n",
        "    daily_mean.plot(ax=axes[1], color='purple', label='Mean')\n",
        "    axes[1].fill_between(daily_mean.index,\n",
        "                        daily_mean - daily_std,\n",
        "                        daily_mean + daily_std,\n",
        "                        color='purple', alpha=0.2, label='±1 Std Dev')\n",
        "    axes[1].plot(daily_median.index, daily_median, color='orange', label='Median')\n",
        "    axes[1].set_title('Daily Mean Sentiment Score')\n",
        "    axes[1].set_xlabel('Date')\n",
        "    axes[1].set_ylabel('Mean Sentiment Score')\n",
        "\n",
        "    # Plot box plot per day on the third subplot\n",
        "    sns.boxplot(x='month', y=column_name, data=df_reset, ax=axes[2])\n",
        "    axes[2].set_title('Monthly Box Plot of Sentiment Scores')\n",
        "    axes[2].set_xlabel('Date')\n",
        "    axes[2].set_ylabel('Sentiment Score')\n",
        "    axes[2].tick_params(axis='x', rotation=45)  # Rotate x-axis labels for better readability\n",
        "\n",
        "\n",
        "    # Adjust layout\n",
        "    plt.tight_layout()\n",
        "    plt.show()\n",
        "\n",
        "plot_sentiment_distribution(all_reddit_posts, 'sent_analysis_title_VADER')"
      ],
      "metadata": {
        "id": "Da4CJHElINGN",
        "colab": {
          "base_uri": "https://localhost:8080/",
          "height": 1000
        },
        "outputId": "24c4ad4d-5935-48e5-8ed4-5c621ec957f6"
      },
      "execution_count": 11,
      "outputs": [
        {
          "output_type": "stream",
          "name": "stdout",
          "text": [
            "Index(['created_utc', 'num_comments', 'fetch_method', 'index',\n",
            "       'sent_analysis_title_VADER', 'month'],\n",
            "      dtype='object')\n",
            "          created_utc  num_comments        fetch_method    index  \\\n",
            "0 2025-07-16 15:02:33            61         top_new_hot  1m1exbt   \n",
            "1 2025-07-19 15:01:11           222  rising_top_new_hot  1m3ycbk   \n",
            "2 2025-07-19 16:04:47            41  rising_top_new_hot  1m3zv8i   \n",
            "3 2025-07-19 12:23:20            62  rising_top_new_hot  1m3uxwl   \n",
            "4 2025-07-19 20:50:10            40  rising_top_new_hot  1m46ow2   \n",
            "\n",
            "   sent_analysis_title_VADER   month  \n",
            "0                     0.5562  7 2025  \n",
            "1                     0.0000  7 2025  \n",
            "2                     0.0000  7 2025  \n",
            "3                    -0.4019  7 2025  \n",
            "4                     0.0258  7 2025  \n"
          ]
        },
        {
          "output_type": "stream",
          "name": "stderr",
          "text": [
            "/tmp/ipython-input-11-1940282360.py:42: UserWarning: This axis already has a converter set and is updating to a potentially incompatible converter\n",
            "  axes[1].plot(daily_median.index, daily_median, color='orange', label='Median')\n"
          ]
        },
        {
          "output_type": "display_data",
          "data": {
            "text/plain": [
              "<Figure size 1200x1500 with 3 Axes>"
            ],
            "image/png": "[encoded data removed]"
          },
          "metadata": {}
        }
      ]
    },
    {
      "cell_type": "markdown",
      "source": [
        "##Correlation Analysis"
      ],
      "metadata": {
        "id": "mFW3gQFZ6KNY"
      }
    },
    {
      "cell_type": "markdown",
      "source": [
        "###merging sentinell analysis with crypto data"
      ],
      "metadata": {
        "id": "Y9qi7-al6kjD"
      }
    },
    {
      "cell_type": "markdown",
      "source": [
        "####load crypto data"
      ],
      "metadata": {
        "id": "aCXhIHN27Lk6"
      }
    },
    {
      "cell_type": "code",
      "source": [
        "cryptocurrency_release_dates = {\n",
        "    \"Bitcoin (BTC)\": \"2012-01-01\",\n",
        "    \"Ethereum (ETH)\": \"2015-07-30\",\n",
        "    \"Tether (USDT)\": \"2014-10-06\",\n",
        "    \"Binance Coin (BNB)\": \"2017-07-25\",\n",
        "    \"USD Coin (USDC)\": \"2018-09-26\",\n",
        "    \"XRP (Ripple)\": \"2012-01-01\",\n",
        "    \"Solana (SOL)\": \"2020-03-01\",\n",
        "    \"Cardano (ADA)\": \"2017-09-29\",\n",
        "    \"Dogecoin (DOGE)\": \"2013-12-06\",\n",
        "    \"Toncoin (TON)\": \"2021-08-01\",\n",
        "    \"Polkadot (DOT)\": \"2020-05-26\",\n",
        "    \"Litecoin (LTC)\": \"2012-01-01\",\n",
        "    \"Chainlink (LINK)\": \"2017-09-19\",\n",
        "    \"Uniswap (UNI)\": \"2020-09-16\",\n",
        "    \"Bitcoin Cash (BCH)\": \"2017-08-01\",\n",
        "    \"Stellar (XLM)\": \"2014-07-31\",\n",
        "    \"VeChain (VET)\": \"2018-08-01\",\n",
        "    \"TRON (TRX)\": \"2017-09-13\",\n",
        "    \"Filecoin (FIL)\": \"2020-10-15\",\n",
        "    \"Aave (AAVE)\": \"2020-10-01\"\n",
        "}"
      ],
      "metadata": {
        "id": "5N1nB_wM7VW3"
      },
      "execution_count": 12,
      "outputs": []
    },
    {
      "cell_type": "code",
      "source": [
        "folder_path_crypto = '/drive/My Drive/Colab Notebooks/Crypto Project/Data/cryptocompare'\n",
        "\n",
        "coin_dict = {}\n",
        "for coin, release_date in cryptocurrency_release_dates.items():\n",
        "  coin_name = coin.split(' (')[0]\n",
        "  coin_symbol = coin.split(' (')[1][:-1]\n",
        "  release_date = pd.to_datetime(release_date)\n",
        "  try:\n",
        "    currency_df = pd.read_csv(f'{folder_path_crypto}/{coin_symbol}_file.csv', parse_dates=['time'], index_col=0, date_format='%Y-%m-%d')\n",
        "    currency_df = currency_df[['time', 'high', 'low', 'open', 'volumefrom', 'volumeto', 'close']]\n",
        "\n",
        "  except FileNotFoundError:\n",
        "    print(f\"No file found for {coin_symbol}\")\n",
        "    continue\n",
        "\n",
        "  coin_dict[coin_name] = currency_df"
      ],
      "metadata": {
        "colab": {
          "base_uri": "https://localhost:8080/"
        },
        "id": "KetwO47j6jwq",
        "outputId": "5e9c58f0-f969-415d-e686-7c2d7f11633c"
      },
      "execution_count": 13,
      "outputs": [
        {
          "output_type": "stream",
          "name": "stdout",
          "text": [
            "No file found for Ripple\n"
          ]
        }
      ]
    },
    {
      "cell_type": "code",
      "source": [
        "print(coin_dict.keys())\n",
        "print(coin_dict[\"Bitcoin\"].head())"
      ],
      "metadata": {
        "colab": {
          "base_uri": "https://localhost:8080/"
        },
        "id": "N9EbczmU-Jz-",
        "outputId": "33a9643c-1364-4e8d-d57c-bd14563f1abc"
      },
      "execution_count": 14,
      "outputs": [
        {
          "output_type": "stream",
          "name": "stdout",
          "text": [
            "dict_keys(['Bitcoin', 'Ethereum', 'Tether', 'Binance Coin', 'USD Coin', 'Solana', 'Cardano', 'Dogecoin', 'Toncoin', 'Polkadot', 'Litecoin', 'Chainlink', 'Uniswap', 'Bitcoin Cash', 'Stellar', 'VeChain', 'TRON', 'Filecoin', 'Aave'])\n",
            "        time   high    low   open  volumefrom   volumeto  close\n",
            "0 2012-12-31  13.56  13.37  13.45    15049.79  202798.91  13.51\n",
            "1 2013-01-01  13.56  13.16  13.51    28406.21  378879.35  13.30\n",
            "2 2013-01-02  13.40  13.16  13.30    17966.81  239156.18  13.28\n",
            "3 2013-01-03  13.46  13.25  13.28    18032.25  240845.86  13.40\n",
            "4 2013-01-04  13.52  13.27  13.40    29641.92  397884.35  13.50\n"
          ]
        }
      ]
    },
    {
      "cell_type": "markdown",
      "source": [
        "###correlation func"
      ],
      "metadata": {
        "id": "ktSVM5C-FMti"
      }
    },
    {
      "cell_type": "code",
      "source": [
        "def merge_data_resample(coin_dict, reddit_posts,\n",
        "                        coin_name='Bitcoin', merge_col='sent_analysis_text'):\n",
        "    currency_df = coin_dict[coin_name].set_index('time')[['close', 'volumeto']]\n",
        "    resample_posts = reddit_posts[merge_col].resample('D').mean()\n",
        "    currency_df.columns = ['Value', 'Volume']\n",
        "    correlation_df = currency_df.merge(\n",
        "        resample_posts,\n",
        "        left_index=True,\n",
        "        right_index=True\n",
        "    )\n",
        "    correlation_df.dropna(subset=[merge_col], inplace=True)\n",
        "    return correlation_df"
      ],
      "metadata": {
        "id": "wVBEO7xRl-aU"
      },
      "execution_count": 15,
      "outputs": []
    },
    {
      "cell_type": "code",
      "source": [
        "def check_corr(coin_dict, resample_posts, coin_name='Bitcoin',\n",
        "               sentiment_col='sent_analysis_text', show=False):\n",
        "\n",
        "    correlation_df = merge_data_resample(coin_dict, resample_posts,\n",
        "                                         coin_name=coin_name,\n",
        "                                         merge_col=sentiment_col)\n",
        "\n",
        "    # print(correlation_df.head())\n",
        "\n",
        "    correlation_matrix = correlation_df.corr()\n",
        "    # print(correlation_matrix, \"\\n\")\n",
        "\n",
        "    # Compute correlation and p-value\n",
        "    correlation, p_value = stats.pearsonr(correlation_df[\"Value\"], correlation_df[sentiment_col])\n",
        "\n",
        "    if show:\n",
        "      print(f\"Correlation Coefficient: {correlation}\")\n",
        "      print(f\"P-Value: {p_value}\")\n",
        "\n",
        "      # Validate correlation\n",
        "\n",
        "    if p_value < 0.05:\n",
        "        val_corr = True\n",
        "    else:\n",
        "        val_corr = False\n",
        "    return (correlation, p_value, val_corr)\n",
        "\n",
        "\n",
        "analysis = {}\n",
        "for coin_name_ in coin_dict.keys():\n",
        "  corr, p_val, val_cor = check_corr(coin_dict, all_reddit_posts,\n",
        "            coin_name=coin_name_, sentiment_col='sent_analysis_title_VADER')\n",
        "  analysis[coin_name_] = {'corr': corr, 'p_val': p_val, 'val': val_cor}\n",
        "\n",
        "for coin_name_, val in analysis.items():\n",
        "  corr = val['corr']\n",
        "  p_val = val['p_val']\n",
        "  val_cor = val['val']\n",
        "  print(f'{coin_name_}:\\n\\t{corr}\\n\\t{p_val}\\n\\t{val_cor}')"
      ],
      "metadata": {
        "colab": {
          "base_uri": "https://localhost:8080/"
        },
        "id": "2iVxSEgH6Llv",
        "outputId": "a55116c3-d06e-4084-b8c3-ed4bd6f8c3e9"
      },
      "execution_count": 16,
      "outputs": [
        {
          "output_type": "stream",
          "name": "stdout",
          "text": [
            "Bitcoin:\n",
            "\t0.0588886094685883\n",
            "\t2.0381592731498708e-08\n",
            "\tTrue\n",
            "Ethereum:\n",
            "\t0.010396335224203405\n",
            "\t0.32273443484727193\n",
            "\tFalse\n",
            "Tether:\n",
            "\t0.025137151384096657\n",
            "\t0.016791116139659515\n",
            "\tTrue\n",
            "Binance Coin:\n",
            "\t0.0009970320588266702\n",
            "\t0.9255818551870729\n",
            "\tFalse\n",
            "USD Coin:\n",
            "\t0.07882007170268199\n",
            "\t3.761768246784447e-12\n",
            "\tTrue\n",
            "Solana:\n",
            "\t-0.03518041136020874\n",
            "\t0.0030375282359113927\n",
            "\tTrue\n",
            "Cardano:\n",
            "\t0.023076059538718118\n",
            "\t0.03060878779111299\n",
            "\tTrue\n",
            "Dogecoin:\n",
            "\t0.018179119171619393\n",
            "\t0.08361686864209258\n",
            "\tFalse\n",
            "Toncoin:\n",
            "\t0.027062664179166057\n",
            "\t0.08020854139836178\n",
            "\tFalse\n",
            "Polkadot:\n",
            "\t0.07419757146192721\n",
            "\t3.9053951199834616e-10\n",
            "\tTrue\n",
            "Litecoin:\n",
            "\t0.11407398160706313\n",
            "\t1.2738797117719017e-27\n",
            "\tTrue\n",
            "Chainlink:\n",
            "\t0.07171290499234176\n",
            "\t1.732679249939613e-11\n",
            "\tTrue\n",
            "Uniswap:\n",
            "\t0.08504216496257885\n",
            "\t7.204309621506991e-13\n",
            "\tTrue\n",
            "Bitcoin Cash:\n",
            "\t0.0691264442445405\n",
            "\t8.948378681101192e-11\n",
            "\tTrue\n",
            "Stellar:\n",
            "\t0.11615897139354854\n",
            "\t1.470593939195567e-28\n",
            "\tTrue\n",
            "VeChain:\n",
            "\t0.0571407706808989\n",
            "\t4.861818949522026e-07\n",
            "\tTrue\n",
            "TRON:\n",
            "\t0.042145002599547975\n",
            "\t7.814328945137448e-05\n",
            "\tTrue\n",
            "Filecoin:\n",
            "\t0.07808974146541792\n",
            "\t4.487845182311105e-11\n",
            "\tTrue\n",
            "Aave:\n",
            "\t0.10340316749214057\n",
            "\t2.4947456144309e-18\n",
            "\tTrue\n"
          ]
        }
      ]
    },
    {
      "cell_type": "markdown",
      "source": [
        "##Sentiment Analysis with VADER"
      ],
      "metadata": {
        "id": "0CLKkgUoltWW"
      }
    },
    {
      "cell_type": "code",
      "source": [
        "print(all_reddit_posts.columns)"
      ],
      "metadata": {
        "colab": {
          "base_uri": "https://localhost:8080/"
        },
        "id": "5KMp3wUCnqZa",
        "outputId": "58c28dfb-5507-4f27-ea0f-12adefef7f02"
      },
      "execution_count": null,
      "outputs": [
        {
          "output_type": "stream",
          "name": "stdout",
          "text": [
            "Index(['index', 'title', 'score', 'author', 'url', 'text', 'num_comments',\n",
            "       'subreddit', 'fetch_method', 'norm_score', 'sent_analysis_text',\n",
            "       'sent_analysis_title', 'sent_analysis_title_VADER'],\n",
            "      dtype='object')\n"
          ]
        }
      ]
    },
    {
      "cell_type": "code",
      "source": [
        "df = all_reddit_posts[['title']]\n",
        "# Example DataFrame\n",
        "# data = {\"text\": [\"I love programming. Python is amazing!\", \"I hate bugs, but debugging can be fun.\"]}\n",
        "# df = pd.DataFrame(data)\n",
        "\n",
        "# Initialize sentiment analyzer\n",
        "sia = SentimentIntensityAnalyzer()\n",
        "\n",
        "# Preprocessing function\n",
        "def preprocess_and_analyze(text):\n",
        "    # Tokenize and clean text\n",
        "    tokens = word_tokenize(text.lower())\n",
        "    stop_words = set(stopwords.words(\"english\"))\n",
        "    clean_tokens = [word for word in tokens if word.isalpha() and word not in stop_words]\n",
        "\n",
        "    # Count word frequencies\n",
        "    word_freq = Counter(clean_tokens)\n",
        "\n",
        "    # Get sentiment for each word\n",
        "    word_sentiments = {word: sia.polarity_scores(word)[\"compound\"] for word in clean_tokens}\n",
        "\n",
        "    return word_freq, word_sentiments\n",
        "\n",
        "# Apply the function\n",
        "word_counts = Counter()\n",
        "word_sentiments = {}\n",
        "\n",
        "for text in df[\"title\"]:\n",
        "    wc, ws = preprocess_and_analyze(text)\n",
        "    word_counts.update(wc)\n",
        "    word_sentiments.update(ws)\n",
        "\n",
        "# Combine results into a DataFrame\n",
        "result_df = pd.DataFrame({\n",
        "    \"word\": list(word_counts.keys()),\n",
        "    \"frequency\": list(word_counts.values()),\n",
        "    \"sentiment\": [word_sentiments[word] for word in word_counts.keys()]\n",
        "})\n",
        "\n",
        "# Sort by frequency\n",
        "result_df = result_df.sort_values(by=\"frequency\", ascending=False).reset_index(drop=True)\n",
        "\n",
        "\n",
        "\n",
        "display(result_df)\n"
      ],
      "metadata": {
        "id": "nwS30xsk_fO5",
        "colab": {
          "base_uri": "https://localhost:8080/",
          "height": 424
        },
        "outputId": "183f9a6b-5f53-4bfb-a2c7-c0083c9116db"
      },
      "execution_count": 17,
      "outputs": [
        {
          "output_type": "display_data",
          "data": {
            "text/plain": [
              "              word  frequency  sentiment\n",
              "0           crypto       1233        0.0\n",
              "1          bitcoin        754        0.0\n",
              "2           market        250        0.0\n",
              "3         ethereum        244        0.0\n",
              "4              btc        224        0.0\n",
              "...            ...        ...        ...\n",
              "7200     gruenberg          1        0.0\n",
              "7201    chokepoint          1        0.0\n",
              "7202     architect          1        0.0\n",
              "7203  mysteriously          1        0.0\n",
              "7204     priceless          1        0.0\n",
              "\n",
              "[7205 rows x 3 columns]"
            ],
            "text/html": [
              "\n",
              "  <div id=\"df-b326d48f-9e76-4019-a1e5-c15bafac4a59\" class=\"colab-df-container\">\n",
              "    <div>\n",
              "<style scoped>\n",
              "    .dataframe tbody tr th:only-of-type {\n",
              "        vertical-align: middle;\n",
              "    }\n",
              "\n",
              "    .dataframe tbody tr th {\n",
              "        vertical-align: top;\n",
              "    }\n",
              "\n",
              "    .dataframe thead th {\n",
              "        text-align: right;\n",
              "    }\n",
              "</style>\n",
              "<table border=\"1\" class=\"dataframe\">\n",
              "  <thead>\n",
              "    <tr style=\"text-align: right;\">\n",
              "      <th></th>\n",
              "      <th>word</th>\n",
              "      <th>frequency</th>\n",
              "      <th>sentiment</th>\n",
              "    </tr>\n",
              "  </thead>\n",
              "  <tbody>\n",
              "    <tr>\n",
              "      <th>0</th>\n",
              "      <td>crypto</td>\n",
              "      <td>1233</td>\n",
              "      <td>0.0</td>\n",
              "    </tr>\n",
              "    <tr>\n",
              "      <th>1</th>\n",
              "      <td>bitcoin</td>\n",
              "      <td>754</td>\n",
              "      <td>0.0</td>\n",
              "    </tr>\n",
              "    <tr>\n",
              "      <th>2</th>\n",
              "      <td>market</td>\n",
              "      <td>250</td>\n",
              "      <td>0.0</td>\n",
              "    </tr>\n",
              "    <tr>\n",
              "      <th>3</th>\n",
              "      <td>ethereum</td>\n",
              "      <td>244</td>\n",
              "      <td>0.0</td>\n",
              "    </tr>\n",
              "    <tr>\n",
              "      <th>4</th>\n",
              "      <td>btc</td>\n",
              "      <td>224</td>\n",
              "      <td>0.0</td>\n",
              "    </tr>\n",
              "    <tr>\n",
              "      <th>...</th>\n",
              "      <td>...</td>\n",
              "      <td>...</td>\n",
              "      <td>...</td>\n",
              "    </tr>\n",
              "    <tr>\n",
              "      <th>7200</th>\n",
              "      <td>gruenberg</td>\n",
              "      <td>1</td>\n",
              "      <td>0.0</td>\n",
              "    </tr>\n",
              "    <tr>\n",
              "      <th>7201</th>\n",
              "      <td>chokepoint</td>\n",
              "      <td>1</td>\n",
              "      <td>0.0</td>\n",
              "    </tr>\n",
              "    <tr>\n",
              "      <th>7202</th>\n",
              "      <td>architect</td>\n",
              "      <td>1</td>\n",
              "      <td>0.0</td>\n",
              "    </tr>\n",
              "    <tr>\n",
              "      <th>7203</th>\n",
              "      <td>mysteriously</td>\n",
              "      <td>1</td>\n",
              "      <td>0.0</td>\n",
              "    </tr>\n",
              "    <tr>\n",
              "      <th>7204</th>\n",
              "      <td>priceless</td>\n",
              "      <td>1</td>\n",
              "      <td>0.0</td>\n",
              "    </tr>\n",
              "  </tbody>\n",
              "</table>\n",
              "<p>7205 rows × 3 columns</p>\n",
              "</div>\n",
              "    <div class=\"colab-df-buttons\">\n",
              "\n",
              "  <div class=\"colab-df-container\">\n",
              "    <button class=\"colab-df-convert\" onclick=\"convertToInteractive('df-b326d48f-9e76-4019-a1e5-c15bafac4a59')\"\n",
              "            title=\"Convert this dataframe to an interactive table.\"\n",
              "            style=\"display:none;\">\n",
              "\n",
              "  <svg xmlns=\"http://www.w3.org/2000/svg\" height=\"24px\" viewBox=\"0 -960 960 960\">\n",
              "    <path d=\"M120-120v-720h720v720H120Zm60-500h600v-160H180v160Zm220 220h160v-160H400v160Zm0 220h160v-160H400v160ZM180-400h160v-160H180v160Zm440 0h160v-160H620v160ZM180-180h160v-160H180v160Zm440 0h160v-160H620v160Z\"/>\n",
              "  </svg>\n",
              "    </button>\n",
              "\n",
              "  <style>\n",
              "    .colab-df-container {\n",
              "      display:flex;\n",
              "      gap: 12px;\n",
              "    }\n",
              "\n",
              "    .colab-df-convert {\n",
              "      background-color: #E8F0FE;\n",
              "      border: none;\n",
              "      border-radius: 50%;\n",
              "      cursor: pointer;\n",
              "      display: none;\n",
              "      fill: #1967D2;\n",
              "      height: 32px;\n",
              "      padding: 0 0 0 0;\n",
              "      width: 32px;\n",
              "    }\n",
              "\n",
              "    .colab-df-convert:hover {\n",
              "      background-color: #E2EBFA;\n",
              "      box-shadow: 0px 1px 2px rgba(60, 64, 67, 0.3), 0px 1px 3px 1px rgba(60, 64, 67, 0.15);\n",
              "      fill: #174EA6;\n",
              "    }\n",
              "\n",
              "    .colab-df-buttons div {\n",
              "      margin-bottom: 4px;\n",
              "    }\n",
              "\n",
              "    [theme=dark] .colab-df-convert {\n",
              "      background-color: #3B4455;\n",
              "      fill: #D2E3FC;\n",
              "    }\n",
              "\n",
              "    [theme=dark] .colab-df-convert:hover {\n",
              "      background-color: #434B5C;\n",
              "      box-shadow: 0px 1px 3px 1px rgba(0, 0, 0, 0.15);\n",
              "      filter: drop-shadow(0px 1px 2px rgba(0, 0, 0, 0.3));\n",
              "      fill: #FFFFFF;\n",
              "    }\n",
              "  </style>\n",
              "\n",
              "    <script>\n",
              "      const buttonEl =\n",
              "        document.querySelector('#df-b326d48f-9e76-4019-a1e5-c15bafac4a59 button.colab-df-convert');\n",
              "      buttonEl.style.display =\n",
              "        google.colab.kernel.accessAllowed ? 'block' : 'none';\n",
              "\n",
              "      async function convertToInteractive(key) {\n",
              "        const element = document.querySelector('#df-b326d48f-9e76-4019-a1e5-c15bafac4a59');\n",
              "        const dataTable =\n",
              "          await google.colab.kernel.invokeFunction('convertToInteractive',\n",
              "                                                    [key], {});\n",
              "        if (!dataTable) return;\n",
              "\n",
              "        const docLinkHtml = 'Like what you see? Visit the ' +\n",
              "          '<a target=\"_blank\" href=https://colab.research.google.com/notebooks/data_table.ipynb>data table notebook</a>'\n",
              "          + ' to learn more about interactive tables.';\n",
              "        element.innerHTML = '';\n",
              "        dataTable['output_type'] = 'display_data';\n",
              "        await google.colab.output.renderOutput(dataTable, element);\n",
              "        const docLink = document.createElement('div');\n",
              "        docLink.innerHTML = docLinkHtml;\n",
              "        element.appendChild(docLink);\n",
              "      }\n",
              "    </script>\n",
              "  </div>\n",
              "\n",
              "\n",
              "    <div id=\"df-550659d5-c245-403f-9845-a332ac35fe6f\">\n",
              "      <button class=\"colab-df-quickchart\" onclick=\"quickchart('df-550659d5-c245-403f-9845-a332ac35fe6f')\"\n",
              "                title=\"Suggest charts\"\n",
              "                style=\"display:none;\">\n",
              "\n",
              "<svg xmlns=\"http://www.w3.org/2000/svg\" height=\"24px\"viewBox=\"0 0 24 24\"\n",
              "     width=\"24px\">\n",
              "    <g>\n",
              "        <path d=\"M19 3H5c-1.1 0-2 .9-2 2v14c0 1.1.9 2 2 2h14c1.1 0 2-.9 2-2V5c0-1.1-.9-2-2-2zM9 17H7v-7h2v7zm4 0h-2V7h2v10zm4 0h-2v-4h2v4z\"/>\n",
              "    </g>\n",
              "</svg>\n",
              "      </button>\n",
              "\n",
              "<style>\n",
              "  .colab-df-quickchart {\n",
              "      --bg-color: #E8F0FE;\n",
              "      --fill-color: #1967D2;\n",
              "      --hover-bg-color: #E2EBFA;\n",
              "      --hover-fill-color: #174EA6;\n",
              "      --disabled-fill-color: #AAA;\n",
              "      --disabled-bg-color: #DDD;\n",
              "  }\n",
              "\n",
              "  [theme=dark] .colab-df-quickchart {\n",
              "      --bg-color: #3B4455;\n",
              "      --fill-color: #D2E3FC;\n",
              "      --hover-bg-color: #434B5C;\n",
              "      --hover-fill-color: #FFFFFF;\n",
              "      --disabled-bg-color: #3B4455;\n",
              "      --disabled-fill-color: #666;\n",
              "  }\n",
              "\n",
              "  .colab-df-quickchart {\n",
              "    background-color: var(--bg-color);\n",
              "    border: none;\n",
              "    border-radius: 50%;\n",
              "    cursor: pointer;\n",
              "    display: none;\n",
              "    fill: var(--fill-color);\n",
              "    height: 32px;\n",
              "    padding: 0;\n",
              "    width: 32px;\n",
              "  }\n",
              "\n",
              "  .colab-df-quickchart:hover {\n",
              "    background-color: var(--hover-bg-color);\n",
              "    box-shadow: 0 1px 2px rgba(60, 64, 67, 0.3), 0 1px 3px 1px rgba(60, 64, 67, 0.15);\n",
              "    fill: var(--button-hover-fill-color);\n",
              "  }\n",
              "\n",
              "  .colab-df-quickchart-complete:disabled,\n",
              "  .colab-df-quickchart-complete:disabled:hover {\n",
              "    background-color: var(--disabled-bg-color);\n",
              "    fill: var(--disabled-fill-color);\n",
              "    box-shadow: none;\n",
              "  }\n",
              "\n",
              "  .colab-df-spinner {\n",
              "    border: 2px solid var(--fill-color);\n",
              "    border-color: transparent;\n",
              "    border-bottom-color: var(--fill-color);\n",
              "    animation:\n",
              "      spin 1s steps(1) infinite;\n",
              "  }\n",
              "\n",
              "  @keyframes spin {\n",
              "    0% {\n",
              "      border-color: transparent;\n",
              "      border-bottom-color: var(--fill-color);\n",
              "      border-left-color: var(--fill-color);\n",
              "    }\n",
              "    20% {\n",
              "      border-color: transparent;\n",
              "      border-left-color: var(--fill-color);\n",
              "      border-top-color: var(--fill-color);\n",
              "    }\n",
              "    30% {\n",
              "      border-color: transparent;\n",
              "      border-left-color: var(--fill-color);\n",
              "      border-top-color: var(--fill-color);\n",
              "      border-right-color: var(--fill-color);\n",
              "    }\n",
              "    40% {\n",
              "      border-color: transparent;\n",
              "      border-right-color: var(--fill-color);\n",
              "      border-top-color: var(--fill-color);\n",
              "    }\n",
              "    60% {\n",
              "      border-color: transparent;\n",
              "      border-right-color: var(--fill-color);\n",
              "    }\n",
              "    80% {\n",
              "      border-color: transparent;\n",
              "      border-right-color: var(--fill-color);\n",
              "      border-bottom-color: var(--fill-color);\n",
              "    }\n",
              "    90% {\n",
              "      border-color: transparent;\n",
              "      border-bottom-color: var(--fill-color);\n",
              "    }\n",
              "  }\n",
              "</style>\n",
              "\n",
              "      <script>\n",
              "        async function quickchart(key) {\n",
              "          const quickchartButtonEl =\n",
              "            document.querySelector('#' + key + ' button');\n",
              "          quickchartButtonEl.disabled = true;  // To prevent multiple clicks.\n",
              "          quickchartButtonEl.classList.add('colab-df-spinner');\n",
              "          try {\n",
              "            const charts = await google.colab.kernel.invokeFunction(\n",
              "                'suggestCharts', [key], {});\n",
              "          } catch (error) {\n",
              "            console.error('Error during call to suggestCharts:', error);\n",
              "          }\n",
              "          quickchartButtonEl.classList.remove('colab-df-spinner');\n",
              "          quickchartButtonEl.classList.add('colab-df-quickchart-complete');\n",
              "        }\n",
              "        (() => {\n",
              "          let quickchartButtonEl =\n",
              "            document.querySelector('#df-550659d5-c245-403f-9845-a332ac35fe6f button');\n",
              "          quickchartButtonEl.style.display =\n",
              "            google.colab.kernel.accessAllowed ? 'block' : 'none';\n",
              "        })();\n",
              "      </script>\n",
              "    </div>\n",
              "\n",
              "  <div id=\"id_b590990f-70c1-4d53-8a0a-8dc6f1c928fb\">\n",
              "    <style>\n",
              "      .colab-df-generate {\n",
              "        background-color: #E8F0FE;\n",
              "        border: none;\n",
              "        border-radius: 50%;\n",
              "        cursor: pointer;\n",
              "        display: none;\n",
              "        fill: #1967D2;\n",
              "        height: 32px;\n",
              "        padding: 0 0 0 0;\n",
              "        width: 32px;\n",
              "      }\n",
              "\n",
              "      .colab-df-generate:hover {\n",
              "        background-color: #E2EBFA;\n",
              "        box-shadow: 0px 1px 2px rgba(60, 64, 67, 0.3), 0px 1px 3px 1px rgba(60, 64, 67, 0.15);\n",
              "        fill: #174EA6;\n",
              "      }\n",
              "\n",
              "      [theme=dark] .colab-df-generate {\n",
              "        background-color: #3B4455;\n",
              "        fill: #D2E3FC;\n",
              "      }\n",
              "\n",
              "      [theme=dark] .colab-df-generate:hover {\n",
              "        background-color: #434B5C;\n",
              "        box-shadow: 0px 1px 3px 1px rgba(0, 0, 0, 0.15);\n",
              "        filter: drop-shadow(0px 1px 2px rgba(0, 0, 0, 0.3));\n",
              "        fill: #FFFFFF;\n",
              "      }\n",
              "    </style>\n",
              "    <button class=\"colab-df-generate\" onclick=\"generateWithVariable('result_df')\"\n",
              "            title=\"Generate code using this dataframe.\"\n",
              "            style=\"display:none;\">\n",
              "\n",
              "  <svg xmlns=\"http://www.w3.org/2000/svg\" height=\"24px\"viewBox=\"0 0 24 24\"\n",
              "       width=\"24px\">\n",
              "    <path d=\"M7,19H8.4L18.45,9,17,7.55,7,17.6ZM5,21V16.75L18.45,3.32a2,2,0,0,1,2.83,0l1.4,1.43a1.91,1.91,0,0,1,.58,1.4,1.91,1.91,0,0,1-.58,1.4L9.25,21ZM18.45,9,17,7.55Zm-12,3A5.31,5.31,0,0,0,4.9,8.1,5.31,5.31,0,0,0,1,6.5,5.31,5.31,0,0,0,4.9,4.9,5.31,5.31,0,0,0,6.5,1,5.31,5.31,0,0,0,8.1,4.9,5.31,5.31,0,0,0,12,6.5,5.46,5.46,0,0,0,6.5,12Z\"/>\n",
              "  </svg>\n",
              "    </button>\n",
              "    <script>\n",
              "      (() => {\n",
              "      const buttonEl =\n",
              "        document.querySelector('#id_b590990f-70c1-4d53-8a0a-8dc6f1c928fb button.colab-df-generate');\n",
              "      buttonEl.style.display =\n",
              "        google.colab.kernel.accessAllowed ? 'block' : 'none';\n",
              "\n",
              "      buttonEl.onclick = () => {\n",
              "        google.colab.notebook.generateWithVariable('result_df');\n",
              "      }\n",
              "      })();\n",
              "    </script>\n",
              "  </div>\n",
              "\n",
              "    </div>\n",
              "  </div>\n"
            ],
            "application/vnd.google.colaboratory.intrinsic+json": {
              "type": "dataframe",
              "variable_name": "result_df",
              "summary": "{\n  \"name\": \"result_df\",\n  \"rows\": 7205,\n  \"fields\": [\n    {\n      \"column\": \"word\",\n      \"properties\": {\n        \"dtype\": \"string\",\n        \"num_unique_values\": 7205,\n        \"samples\": [\n          \"sheriff\",\n          \"york\",\n          \"entrepreneurs\"\n        ],\n        \"semantic_type\": \"\",\n        \"description\": \"\"\n      }\n    },\n    {\n      \"column\": \"frequency\",\n      \"properties\": {\n        \"dtype\": \"number\",\n        \"std\": 20,\n        \"min\": 1,\n        \"max\": 1233,\n        \"num_unique_values\": 102,\n        \"samples\": [\n          81,\n          35,\n          40\n        ],\n        \"semantic_type\": \"\",\n        \"description\": \"\"\n      }\n    },\n    {\n      \"column\": \"sentiment\",\n      \"properties\": {\n        \"dtype\": \"number\",\n        \"std\": 0.14925468223567437,\n        \"min\": -0.6908,\n        \"max\": 0.6597,\n        \"num_unique_values\": 70,\n        \"samples\": [\n          -0.2732,\n          0.0,\n          -0.5994\n        ],\n        \"semantic_type\": \"\",\n        \"description\": \"\"\n      }\n    }\n  ]\n}"
            }
          },
          "metadata": {}
        }
      ]
    },
    {
      "cell_type": "code",
      "source": [
        "df = all_reddit_posts[['title']]\n",
        "df.columns = ['post']\n",
        "\n",
        "sia = SentimentIntensityAnalyzer()\n",
        "# List of cryptocurrencies to analyze\n",
        "cryptos = [\"Bitcoin\", \"Solana\"]\n",
        "\n",
        "# Function to analyze sentiment for specific cryptocurrencies\n",
        "def analyze_crypto_sentiment(posts, crypto_list):\n",
        "    results = []\n",
        "    for crypto in crypto_list:\n",
        "        for post in posts:\n",
        "            if crypto.lower() in post.lower():  # Check if crypto is mentioned\n",
        "                sentiment = sia.polarity_scores(post)[\"compound\"]  # Analyze sentiment\n",
        "                results.append({\"crypto\": crypto, \"post\": post, \"sentiment\": sentiment})\n",
        "    return pd.DataFrame(results)\n",
        "\n",
        "# Analyze sentiment for mentions of cryptocurrencies\n",
        "crypto_sentiment_df = analyze_crypto_sentiment(df[\"post\"], cryptos)\n",
        "\n",
        "# Aggregate results (optional)\n",
        "summary = crypto_sentiment_df.groupby(\"crypto\")[\"sentiment\"].agg([\"mean\", \"count\"]).reset_index()\n",
        "\n",
        "# Display results\n",
        "print(\"Detailed Analysis:\")\n",
        "print(crypto_sentiment_df)\n",
        "print(\"\\nSummary:\")\n",
        "print(summary)"
      ],
      "metadata": {
        "colab": {
          "base_uri": "https://localhost:8080/"
        },
        "id": "7uFsoORMpOzB",
        "outputId": "13951c50-b695-4b90-b3de-344fba845ead"
      },
      "execution_count": 18,
      "outputs": [
        {
          "output_type": "stream",
          "name": "stdout",
          "text": [
            "Detailed Analysis:\n",
            "      crypto                                               post  sentiment\n",
            "0    Bitcoin  Billionaire Mike Novogratz Says Bitcoin Could ...     0.0000\n",
            "1    Bitcoin  Bitcoin Address Wakes Up After Lying Low for O...    -0.3818\n",
            "2    Bitcoin  Bitcoin has broken back to the green line in t...    -0.4767\n",
            "3    Bitcoin  Bitcoin Nears $98,000, Just 2% Away From Six F...     0.0000\n",
            "4    Bitcoin  ETH-to-BTC price ratio drops to lowest since M...    -0.3818\n",
            "..       ...                                                ...        ...\n",
            "827   Solana  Solana Tops All Chains in Network Revenue for ...     0.6369\n",
            "828   Solana  SEC Sets July Deadline for Solana (SOL) ETF Re...     0.4767\n",
            "829   Solana  Solana ETF pulls in a record $12 million on de...     0.0000\n",
            "830   Solana  Solana bot scam on GitHub steals crypto from u...    -0.7906\n",
            "831   Solana  Solana celebrates a year without network failu...     0.7335\n",
            "\n",
            "[832 rows x 3 columns]\n",
            "\n",
            "Summary:\n",
            "    crypto      mean  count\n",
            "0  Bitcoin  0.051369    749\n",
            "1   Solana  0.010990     83\n"
          ]
        }
      ]
    },
    {
      "cell_type": "code",
      "source": [
        "corped_df = crypto_sentiment_df.loc[crypto_sentiment_df['sentiment'] != 0.0]\n",
        "rand_sample = corped_df.sample(n=20, random_state=42)\n",
        "\n",
        "sampled_df = corped_df.groupby(\"crypto\", group_keys=False).apply(lambda group: group.sample(n=5, random_state=42))\n",
        "\n",
        "\n",
        "for row in sampled_df.iterrows():\n",
        "  crypto = row[1].iloc[0]\n",
        "  post = row[1].iloc[1]\n",
        "  sentiment = row[1].iloc[2]\n",
        "  if sentiment == 0:\n",
        "    continue\n",
        "  print(f\"Currency: {crypto}\\n\\tPost: {post}\\n\\tSentiment: {sentiment}\")"
      ],
      "metadata": {
        "colab": {
          "base_uri": "https://localhost:8080/"
        },
        "id": "BbS9sIprbSw-",
        "outputId": "f7b3fb91-9b1a-40a4-993e-97a6d94c54ce"
      },
      "execution_count": 19,
      "outputs": [
        {
          "output_type": "stream",
          "name": "stdout",
          "text": [
            "Currency: Bitcoin\n",
            "\tPost: Wall Street Titans Went from Calling Bitcoin a Scam to Owning and Endorsing It\n",
            "\tSentiment: -0.5719\n",
            "Currency: Bitcoin\n",
            "\tPost: Bitcoin Mining Giant Riot Platforms Adds More Than $510,000,000 Worth of BTC to Corporate Treasury - The Daily Hodl\n",
            "\tSentiment: -0.1621\n",
            "Currency: Bitcoin\n",
            "\tPost: Tether Prepares for Demand Surge With $1B USDT Mint After Bitcoin ATH\n",
            "\tSentiment: -0.128\n",
            "Currency: Bitcoin\n",
            "\tPost: Increased demand and heightened volatility signal further upside for Bitcoin\n",
            "\tSentiment: 0.1531\n",
            "Currency: Bitcoin\n",
            "\tPost: 13 years ago today, a $110 million Bitcoin mistake ✨\n",
            "\tSentiment: -0.34\n",
            "Currency: Solana\n",
            "\tPost: I'm still using Trojan to trade on solana, anything better?\n",
            "\tSentiment: 0.4404\n",
            "Currency: Solana\n",
            "\tPost: Ethereum's Growing Solana Problem Highlighted by Dev's Defection\n",
            "\tSentiment: -0.5267\n",
            "Currency: Solana\n",
            "\tPost: 2 years ago: a “contrarian thread” that Solana would still make it after the Alameda/FTX collapse. Interesting looking back\n",
            "\tSentiment: -0.128\n",
            "Currency: Solana\n",
            "\tPost: Upexi to to inject its Solana treasury with $200 million\n",
            "\tSentiment: 0.2023\n",
            "Currency: Solana\n",
            "\tPost: Ethereum dominates DeFi with 55% TVL as Modular Approach Outpaces Solana\n",
            "\tSentiment: 0.0516\n"
          ]
        },
        {
          "output_type": "stream",
          "name": "stderr",
          "text": [
            "/tmp/ipython-input-19-1434286615.py:4: DeprecationWarning: DataFrameGroupBy.apply operated on the grouping columns. This behavior is deprecated, and in a future version of pandas the grouping columns will be excluded from the operation. Either pass `include_groups=False` to exclude the groupings or explicitly select the grouping columns after groupby to silence this warning.\n",
            "  sampled_df = corped_df.groupby(\"crypto\", group_keys=False).apply(lambda group: group.sample(n=5, random_state=42))\n"
          ]
        }
      ]
    },
    {
      "cell_type": "code",
      "source": [],
      "metadata": {
        "id": "uozJ0yOwbhOW"
      },
      "execution_count": null,
      "outputs": []
    }
  ]
}